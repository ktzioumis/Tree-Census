{
 "cells": [
  {
   "cell_type": "code",
   "execution_count": 2,
   "metadata": {},
   "outputs": [],
   "source": [
    "import pandas as pd\n",
    "import numpy as np\n",
    "import plotly as py\n",
    "import plotly.graph_objects as go\n",
    "import folium\n",
    "import json"
   ]
  },
  {
   "cell_type": "code",
   "execution_count": 3,
   "metadata": {},
   "outputs": [],
   "source": [
    "df_1995=pd.read_csv('new_york_tree_census_1995.csv')\n",
    "df_2005=pd.read_csv('new_york_tree_census_2005.csv')\n",
    "df_2015=pd.read_csv('new_york_tree_census_2015.csv')\n",
    "df_trees=pd.read_csv('new_york_tree_species.csv')"
   ]
  },
  {
   "cell_type": "code",
   "execution_count": 4,
   "metadata": {},
   "outputs": [
    {
     "data": {
      "text/plain": [
       "Index(['recordid', 'address', 'house_number', 'street', 'zip_original',\n",
       "       'cb_original', 'site', 'species', 'diameter', 'status', 'wires',\n",
       "       'sidewalk_condition', 'support_structure', 'borough', 'x', 'y',\n",
       "       'longitude', 'latitude', 'cb_new', 'zip_new', 'censustract_2010',\n",
       "       'censusblock_2010', 'nta_2010', 'segmentid', 'spc_common', 'spc_latin',\n",
       "       'location'],\n",
       "      dtype='object')"
      ]
     },
     "execution_count": 4,
     "metadata": {},
     "output_type": "execute_result"
    }
   ],
   "source": [
    "df_1995.columns"
   ]
  },
  {
   "cell_type": "code",
   "execution_count": 5,
   "metadata": {},
   "outputs": [
    {
     "data": {
      "text/plain": [
       "Index(['objectid', 'cen_year', 'tree_dbh', 'tree_loc', 'pit_type', 'soil_lvl',\n",
       "       'status', 'spc_latin', 'spc_common', 'vert_other', 'vert_pgrd',\n",
       "       'vert_tgrd', 'vert_wall', 'horz_blck', 'horz_grate', 'horz_plant',\n",
       "       'horz_other', 'sidw_crack', 'sidw_raise', 'wire_htap', 'wire_prime',\n",
       "       'wire_2nd', 'wire_other', 'inf_canopy', 'inf_guard', 'inf_wires',\n",
       "       'inf_paving', 'inf_outlet', 'inf_shoes', 'inf_lights', 'inf_other',\n",
       "       'trunk_dmg', 'zipcode', 'zip_city', 'cb_num', 'borocode', 'boroname',\n",
       "       'cncldist', 'st_assem', 'st_senate', 'nta', 'nta_name', 'boro_ct',\n",
       "       'x_sp', 'y_sp', 'objectid_1', 'location_1'],\n",
       "      dtype='object')"
      ]
     },
     "execution_count": 5,
     "metadata": {},
     "output_type": "execute_result"
    }
   ],
   "source": [
    "df_2005.columns"
   ]
  },
  {
   "cell_type": "code",
   "execution_count": 6,
   "metadata": {
    "scrolled": true
   },
   "outputs": [
    {
     "data": {
      "text/plain": [
       "Index(['tree_id', 'block_id', 'created_at', 'tree_dbh', 'stump_diam',\n",
       "       'curb_loc', 'status', 'health', 'spc_latin', 'spc_common', 'steward',\n",
       "       'guards', 'sidewalk', 'user_type', 'problems', 'root_stone',\n",
       "       'root_grate', 'root_other', 'trunk_wire', 'trnk_light', 'trnk_other',\n",
       "       'brch_light', 'brch_shoe', 'brch_other', 'address', 'zipcode',\n",
       "       'zip_city', 'cb_num', 'borocode', 'boroname', 'cncldist', 'st_assem',\n",
       "       'st_senate', 'nta', 'nta_name', 'boro_ct', 'state', 'latitude',\n",
       "       'longitude', 'x_sp', 'y_sp'],\n",
       "      dtype='object')"
      ]
     },
     "execution_count": 6,
     "metadata": {},
     "output_type": "execute_result"
    }
   ],
   "source": [
    "df_2015.columns"
   ]
  },
  {
   "cell_type": "code",
   "execution_count": 8,
   "metadata": {},
   "outputs": [],
   "source": [
    "nta_count_1995=pd.DataFrame(df_1995.nta_2010.value_counts()).drop(index=['Unknown']).reset_index()\n",
    "nta_count_2005=pd.DataFrame(df_2005.nta.value_counts()).reset_index()\n",
    "nta_count_2015=pd.DataFrame(df_2015.nta.value_counts()).reset_index()"
   ]
  },
  {
   "cell_type": "markdown",
   "metadata": {},
   "source": [
    "Geojson reformatted to have \"feature.id\" as NTA code"
   ]
  },
  {
   "cell_type": "code",
   "execution_count": 20,
   "metadata": {},
   "outputs": [],
   "source": [
    "f = open('NTA_map.geojson')\n",
    "nta_json = json.load(f)"
   ]
  },
  {
   "cell_type": "code",
   "execution_count": 55,
   "metadata": {},
   "outputs": [],
   "source": [
    "for i in list(range(0,len(nta_json['features']))):\n",
    "    json_id=nta_json['features'][i]['properties']['ntacode']\n",
    "    nta_json['features'][i]['id']=json_id\n",
    "    \n",
    "    "
   ]
  },
  {
   "cell_type": "code",
   "execution_count": 63,
   "metadata": {},
   "outputs": [],
   "source": [
    "with open('nta_json2.json', 'w') as fp:\n",
    "    json.dump(nta_json, fp)"
   ]
  },
  {
   "cell_type": "code",
   "execution_count": 75,
   "metadata": {},
   "outputs": [
    {
     "data": {
      "application/vnd.plotly.v1+json": {
       "config": {
        "plotlyServerURL": "https://plot.ly"
       },
       "data": [
        {
         "colorbar": {
          "title": {
           "text": "1995"
          }
         },
         "colorscale": [
          [
           0,
           "rgb(255,255,229)"
          ],
          [
           0.125,
           "rgb(247,252,185)"
          ],
          [
           0.25,
           "rgb(217,240,163)"
          ],
          [
           0.375,
           "rgb(173,221,142)"
          ],
          [
           0.5,
           "rgb(120,198,121)"
          ],
          [
           0.625,
           "rgb(65,171,93)"
          ],
          [
           0.75,
           "rgb(35,132,67)"
          ],
          [
           0.875,
           "rgb(0,104,55)"
          ],
          [
           1,
           "rgb(0,69,41)"
          ]
         ],
         "geojson": "nta_json2.json",
         "locations": [
          "SI01",
          "QN55",
          "QN46",
          "QN28",
          "SI54",
          "QN17",
          "SI05",
          "QN34",
          "QN08",
          "QN51",
          "SI32",
          "QN49",
          "QN54",
          "BK42",
          "QN44",
          "SI48",
          "QN43",
          "BK31",
          "BK50",
          "QN53",
          "BK17",
          "SI11",
          "BK45",
          "QN21",
          "QN19",
          "QN48",
          "BK43",
          "QN20",
          "QN05",
          "QN66",
          "QN42",
          "MN12",
          "BK37",
          "BK88",
          "BK58",
          "QN38",
          "QN45",
          "QN72",
          "SI45",
          "BX62",
          "QN57",
          "QN37",
          "SI24",
          "QN76",
          "MN40",
          "SI25",
          "SI07",
          "BK61",
          "QN31",
          "BX52",
          "SI36",
          "QN70",
          "QN30",
          "QN29",
          "QN33",
          "QN01",
          "QN10",
          "MN23",
          "BX31",
          "QN35",
          "QN52",
          "BK82",
          "BK28",
          "BK44",
          "QN56",
          "BK30",
          "SI35",
          "BX22",
          "QN07",
          "BK91",
          "QN61",
          "MN19",
          "BK96",
          "BK25",
          "QN02",
          "QN22",
          "QN47",
          "MN32",
          "QN62",
          "QN60",
          "BK33",
          "QN03",
          "MN13",
          "QN23",
          "QN06",
          "MN31",
          "QN41",
          "BK81",
          "SI22",
          "BX10",
          "BX03",
          "QN15",
          "BK38",
          "BK35",
          "QN63",
          "BK60",
          "BX37",
          "BK69",
          "BK29",
          "SI37",
          "SI12",
          "QN18",
          "BK83",
          "BK78",
          "SI28",
          "BK75",
          "QN27",
          "BX09",
          "QN50",
          "MN03",
          "SI14",
          "BX49",
          "BX28",
          "MN14",
          "BK46",
          "BK34",
          "MN20",
          "BK09",
          "MN36",
          "MN09",
          "BK27",
          "SI08",
          "BK32",
          "QN25",
          "MN22",
          "BK68",
          "MN15",
          "BX44",
          "MN17",
          "BK40",
          "BK73",
          "BK19",
          "BK41",
          "MN35",
          "BK63",
          "MN04",
          "MN24",
          "BX29",
          "BX55",
          "MN21",
          "QN68",
          "MN11",
          "BX13",
          "BK76",
          "MN34",
          "BX05",
          "BX08",
          "QN26",
          "QN71",
          "MN28",
          "BX59",
          "MN01",
          "MN33",
          "BK26",
          "BK77",
          "BK72",
          "BK79",
          "BX14",
          "BK85",
          "BK95",
          "BX07",
          "BX43",
          "BK90",
          "BX36",
          "BX41",
          "QN12",
          "BX63",
          "BX06",
          "BX35",
          "BX30",
          "BX39",
          "BK64",
          "BX75",
          "MN27",
          "MN25",
          "BX17",
          "BK21",
          "MN06",
          "BX26",
          "BX34",
          "BX01",
          "BX40",
          "MN50",
          "BX27",
          "BK23",
          "QN99",
          "BX33",
          "BX46",
          "BX99",
          "BK93",
          "BK99",
          "MN99",
          "QN98"
         ],
         "type": "choroplethmapbox",
         "visible": true,
         "z": [
          10573,
          8556,
          7900,
          7073,
          7043,
          7005,
          6984,
          6781,
          6681,
          6636,
          6424,
          6412,
          6293,
          6140,
          5974,
          5795,
          5792,
          5581,
          5571,
          5351,
          5085,
          5057,
          5045,
          5028,
          5001,
          4901,
          4840,
          4823,
          4771,
          4666,
          4644,
          4631,
          4612,
          4598,
          4572,
          4450,
          4444,
          4360,
          4199,
          4197,
          4127,
          4087,
          4069,
          4038,
          4017,
          3882,
          3881,
          3861,
          3711,
          3667,
          3541,
          3462,
          3444,
          3402,
          3402,
          3399,
          3384,
          3364,
          3261,
          3246,
          3240,
          3222,
          3117,
          3076,
          3044,
          3037,
          2905,
          2788,
          2786,
          2778,
          2684,
          2674,
          2597,
          2556,
          2522,
          2508,
          2476,
          2459,
          2403,
          2397,
          2323,
          2274,
          2251,
          2242,
          2233,
          2176,
          2168,
          2135,
          2129,
          2100,
          2068,
          2034,
          2026,
          1992,
          1956,
          1950,
          1943,
          1904,
          1887,
          1834,
          1832,
          1814,
          1791,
          1790,
          1783,
          1782,
          1777,
          1745,
          1720,
          1705,
          1669,
          1653,
          1647,
          1564,
          1548,
          1544,
          1519,
          1499,
          1492,
          1490,
          1490,
          1453,
          1444,
          1426,
          1406,
          1383,
          1371,
          1369,
          1358,
          1353,
          1350,
          1228,
          1226,
          1219,
          1219,
          1213,
          1198,
          1183,
          1168,
          1167,
          1166,
          1140,
          1137,
          1110,
          1099,
          1090,
          1087,
          1047,
          1039,
          1038,
          1010,
          972,
          951,
          949,
          926,
          905,
          888,
          886,
          879,
          851,
          828,
          815,
          800,
          787,
          747,
          721,
          681,
          673,
          659,
          655,
          645,
          591,
          570,
          530,
          528,
          518,
          517,
          494,
          493,
          493,
          471,
          332,
          327,
          287,
          273,
          247,
          197,
          175,
          83,
          58,
          44,
          44,
          21
         ]
        },
        {
         "colorbar": {
          "title": {
           "text": "2005"
          }
         },
         "colorscale": [
          [
           0,
           "rgb(255,255,229)"
          ],
          [
           0.125,
           "rgb(247,252,185)"
          ],
          [
           0.25,
           "rgb(217,240,163)"
          ],
          [
           0.375,
           "rgb(173,221,142)"
          ],
          [
           0.5,
           "rgb(120,198,121)"
          ],
          [
           0.625,
           "rgb(65,171,93)"
          ],
          [
           0.75,
           "rgb(35,132,67)"
          ],
          [
           0.875,
           "rgb(0,104,55)"
          ],
          [
           1,
           "rgb(0,69,41)"
          ]
         ],
         "geojson": "nta_json2.json",
         "locations": [
          "SI01",
          "QN46",
          "SI54",
          "SI32",
          "QN17",
          "QN55",
          "QN49",
          "SI11",
          "SI48",
          "QN28",
          "QN44",
          "QN51",
          "BK45",
          "QN43",
          "QN45",
          "BK50",
          "SI05",
          "BK31",
          "QN34",
          "BK42",
          "BK37",
          "QN21",
          "QN20",
          "BK17",
          "MN12",
          "BK58",
          "QN42",
          "QN48",
          "BK88",
          "SI07",
          "QN08",
          "QN05",
          "SI45",
          "SI24",
          "BK43",
          "QN31",
          "QN19",
          "SI36",
          "QN53",
          "QN38",
          "QN37",
          "QN72",
          "BK61",
          "QN57",
          "QN76",
          "QN54",
          "QN06",
          "QN10",
          "SI25",
          "BX31",
          "BX62",
          "MN40",
          "SI35",
          "BK28",
          "BX52",
          "QN29",
          "BK82",
          "BK30",
          "QN52",
          "QN66",
          "BK33",
          "QN47",
          "QN41",
          "QN01",
          "QN70",
          "BX22",
          "BK25",
          "BK44",
          "QN33",
          "QN56",
          "BK38",
          "MN23",
          "QN15",
          "BX10",
          "BK78",
          "BK96",
          "QN35",
          "BK91",
          "SI22",
          "SI14",
          "QN61",
          "QN30",
          "QN03",
          "SI37",
          "BK35",
          "QN63",
          "QN62",
          "QN22",
          "BK29",
          "QN02",
          "BK76",
          "BK60",
          "SI08",
          "QN23",
          "MN32",
          "BX44",
          "SI12",
          "BK46",
          "MN31",
          "BK63",
          "MN13",
          "MN03",
          "BK73",
          "BX09",
          "BK75",
          "BK34",
          "QN50",
          "BK81",
          "MN19",
          "BK09",
          "SI28",
          "BX03",
          "BK41",
          "BX37",
          "QN18",
          "QN25",
          "BX13",
          "MN09",
          "BX49",
          "MN14",
          "BK40",
          "QN07",
          "QN60",
          "MN11",
          "BX29",
          "BX28",
          "BK69",
          "BK83",
          "BK32",
          "MN20",
          "MN36",
          "MN15",
          "MN34",
          "MN24",
          "BK90",
          "QN27",
          "BX17",
          "BK72",
          "MN04",
          "BK77",
          "BK85",
          "BK21",
          "BX07",
          "BX43",
          "BK68",
          "BK64",
          "BX27",
          "MN22",
          "QN26",
          "BK27",
          "BX05",
          "BX59",
          "BX36",
          "BX55",
          "MN35",
          "MN33",
          "QN12",
          "MN17",
          "BK26",
          "MN21",
          "BK19",
          "BX41",
          "MN28",
          "MN01",
          "BX14",
          "MN25",
          "BX63",
          "BX35",
          "QN71",
          "BX33",
          "BX39",
          "BK79",
          "BX08",
          "QN68",
          "BK95",
          "BX34",
          "BX06",
          "MN27",
          "BX75",
          "BX01",
          "BX30",
          "BX26",
          "MN06",
          "QN99",
          "BX46",
          "BX40",
          "BK99",
          "BK23",
          "MN50",
          "BK93",
          "BX99",
          "MN99",
          "QN98"
         ],
         "type": "choroplethmapbox",
         "visible": false,
         "z": [
          13709,
          10839,
          9852,
          8530,
          8255,
          7951,
          7748,
          7225,
          7139,
          7119,
          7067,
          6961,
          6778,
          6634,
          6547,
          6490,
          6416,
          6386,
          6104,
          5971,
          5818,
          5573,
          5542,
          5275,
          5233,
          5216,
          5171,
          5148,
          5121,
          5069,
          5068,
          5052,
          5037,
          4893,
          4826,
          4722,
          4675,
          4552,
          4524,
          4503,
          4481,
          4460,
          4402,
          4378,
          4328,
          4324,
          4045,
          3994,
          3968,
          3930,
          3889,
          3888,
          3842,
          3751,
          3733,
          3730,
          3666,
          3608,
          3536,
          3515,
          3445,
          3377,
          3289,
          3279,
          3209,
          3170,
          3165,
          3163,
          3151,
          3100,
          3094,
          3078,
          3073,
          3064,
          3033,
          2912,
          2884,
          2836,
          2833,
          2823,
          2781,
          2770,
          2768,
          2717,
          2702,
          2699,
          2692,
          2669,
          2637,
          2625,
          2620,
          2479,
          2416,
          2416,
          2391,
          2379,
          2320,
          2293,
          2239,
          2222,
          2210,
          2172,
          2170,
          2166,
          2160,
          2140,
          2125,
          2108,
          2084,
          2079,
          2078,
          2050,
          2026,
          1997,
          1993,
          1987,
          1962,
          1836,
          1833,
          1828,
          1819,
          1808,
          1788,
          1778,
          1772,
          1767,
          1747,
          1638,
          1635,
          1623,
          1618,
          1602,
          1586,
          1584,
          1581,
          1568,
          1548,
          1495,
          1486,
          1416,
          1402,
          1398,
          1390,
          1387,
          1382,
          1326,
          1323,
          1306,
          1284,
          1276,
          1254,
          1252,
          1212,
          1168,
          1167,
          1163,
          1161,
          1142,
          1117,
          1097,
          1055,
          1042,
          1038,
          1032,
          981,
          959,
          937,
          924,
          915,
          911,
          890,
          889,
          878,
          876,
          822,
          752,
          691,
          681,
          673,
          666,
          666,
          598,
          566,
          462,
          436,
          435,
          370,
          366,
          330,
          195,
          130,
          77,
          12
         ]
        },
        {
         "colorbar": {
          "title": {
           "text": "2015"
          }
         },
         "colorscale": [
          [
           0,
           "rgb(255,255,229)"
          ],
          [
           0.125,
           "rgb(247,252,185)"
          ],
          [
           0.25,
           "rgb(217,240,163)"
          ],
          [
           0.375,
           "rgb(173,221,142)"
          ],
          [
           0.5,
           "rgb(120,198,121)"
          ],
          [
           0.625,
           "rgb(65,171,93)"
          ],
          [
           0.75,
           "rgb(35,132,67)"
          ],
          [
           0.875,
           "rgb(0,104,55)"
          ],
          [
           1,
           "rgb(0,69,41)"
          ]
         ],
         "geojson": "nta_json2.json",
         "locations": [
          "SI01",
          "SI54",
          "QN46",
          "BK82",
          "SI32",
          "SI05",
          "SI11",
          "QN17",
          "QN49",
          "BK45",
          "QN55",
          "QN45",
          "QN08",
          "QN51",
          "BK31",
          "SI48",
          "QN28",
          "QN34",
          "QN44",
          "QN20",
          "BK61",
          "BK37",
          "QN43",
          "BK42",
          "QN42",
          "BK50",
          "BK88",
          "MN12",
          "SI25",
          "BK58",
          "SI45",
          "QN72",
          "QN05",
          "QN21",
          "QN48",
          "BK17",
          "QN31",
          "QN54",
          "QN37",
          "BX52",
          "QN38",
          "QN15",
          "SI07",
          "SI36",
          "BK43",
          "SI24",
          "QN76",
          "MN40",
          "QN57",
          "QN66",
          "BK78",
          "QN19",
          "QN70",
          "QN10",
          "BK33",
          "QN53",
          "BK28",
          "QN06",
          "QN61",
          "BK25",
          "BX62",
          "QN01",
          "SI22",
          "BK35",
          "BX31",
          "SI37",
          "MN23",
          "BX09",
          "SI12",
          "QN03",
          "BK75",
          "BK83",
          "BK44",
          "SI35",
          "BX27",
          "MN03",
          "BK73",
          "QN23",
          "BK77",
          "BK76",
          "BX44",
          "BK29",
          "QN33",
          "BK96",
          "QN29",
          "QN30",
          "QN35",
          "BK30",
          "QN52",
          "QN56",
          "BK32",
          "QN22",
          "BK34",
          "BX10",
          "QN12",
          "BK60",
          "BX37",
          "BK81",
          "SI28",
          "QN62",
          "BK69",
          "BK91",
          "BK85",
          "MN36",
          "MN13",
          "QN02",
          "BK38",
          "QN47",
          "QN41",
          "BX59",
          "MN09",
          "QN63",
          "MN35",
          "MN11",
          "BX03",
          "BX17",
          "MN34",
          "QN07",
          "BK46",
          "BX39",
          "SI08",
          "BX14",
          "QN18",
          "MN04",
          "BX28",
          "BK79",
          "BX35",
          "MN31",
          "BX49",
          "BK90",
          "BK41",
          "BK40",
          "MN32",
          "QN26",
          "MN19",
          "MN24",
          "QN27",
          "BX34",
          "BK68",
          "BX63",
          "SI14",
          "BK63",
          "BX13",
          "QN25",
          "MN14",
          "BX41",
          "QN60",
          "BX22",
          "BX29",
          "MN33",
          "MN15",
          "BX36",
          "QN50",
          "BX43",
          "BX26",
          "MN28",
          "BX55",
          "BX05",
          "BK27",
          "BK09",
          "MN01",
          "MN20",
          "BX01",
          "BK72",
          "BX06",
          "BX08",
          "MN22",
          "BX33",
          "BX07",
          "BX75",
          "BK64",
          "MN27",
          "BK21",
          "BK26",
          "BK95",
          "QN68",
          "QN71",
          "MN25",
          "BK19",
          "MN17",
          "BX30",
          "MN21",
          "BX40",
          "MN06",
          "BX46",
          "BK93",
          "BK23",
          "MN50"
         ],
         "type": "choroplethmapbox",
         "visible": false,
         "z": [
          12969,
          10734,
          9780,
          9607,
          9251,
          8446,
          8216,
          7701,
          7620,
          7449,
          7321,
          7302,
          7239,
          7133,
          7026,
          6999,
          6863,
          6856,
          6814,
          6481,
          6411,
          6314,
          6246,
          6116,
          6059,
          5994,
          5955,
          5881,
          5675,
          5589,
          5452,
          5436,
          5372,
          5345,
          5332,
          5321,
          5242,
          5101,
          5088,
          5023,
          4985,
          4972,
          4954,
          4952,
          4860,
          4823,
          4815,
          4673,
          4627,
          4623,
          4538,
          4509,
          4393,
          4351,
          4346,
          4260,
          4258,
          4254,
          4252,
          4247,
          4083,
          4077,
          3970,
          3879,
          3843,
          3840,
          3837,
          3819,
          3776,
          3754,
          3702,
          3644,
          3644,
          3539,
          3521,
          3515,
          3484,
          3474,
          3455,
          3375,
          3371,
          3348,
          3324,
          3312,
          3307,
          3290,
          3278,
          3248,
          3247,
          3244,
          3243,
          3227,
          3224,
          3196,
          3187,
          3169,
          3143,
          3092,
          3084,
          3020,
          3017,
          3008,
          2991,
          2990,
          2988,
          2967,
          2937,
          2906,
          2872,
          2820,
          2751,
          2739,
          2684,
          2670,
          2629,
          2593,
          2591,
          2553,
          2537,
          2517,
          2505,
          2498,
          2460,
          2407,
          2399,
          2340,
          2330,
          2327,
          2312,
          2296,
          2295,
          2290,
          2269,
          2264,
          2253,
          2215,
          2165,
          2156,
          2150,
          2142,
          2133,
          2120,
          2103,
          2070,
          2065,
          2051,
          2024,
          2019,
          2017,
          2014,
          2008,
          2002,
          1996,
          1981,
          1979,
          1943,
          1921,
          1821,
          1818,
          1767,
          1754,
          1746,
          1706,
          1658,
          1637,
          1623,
          1575,
          1572,
          1550,
          1546,
          1535,
          1474,
          1454,
          1412,
          1395,
          1366,
          1341,
          1311,
          1281,
          1196,
          1184,
          1172,
          1060,
          913,
          790,
          688,
          481,
          447
         ]
        }
       ],
       "layout": {
        "mapbox": {
         "center": {
          "lat": 40.7,
          "lon": -73.86
         },
         "style": "carto-positron",
         "zoom": 9
        },
        "margin": {
         "b": 0,
         "l": 0,
         "r": 0,
         "t": 0
        },
        "template": {
         "data": {
          "bar": [
           {
            "error_x": {
             "color": "#2a3f5f"
            },
            "error_y": {
             "color": "#2a3f5f"
            },
            "marker": {
             "line": {
              "color": "#E5ECF6",
              "width": 0.5
             }
            },
            "type": "bar"
           }
          ],
          "barpolar": [
           {
            "marker": {
             "line": {
              "color": "#E5ECF6",
              "width": 0.5
             }
            },
            "type": "barpolar"
           }
          ],
          "carpet": [
           {
            "aaxis": {
             "endlinecolor": "#2a3f5f",
             "gridcolor": "white",
             "linecolor": "white",
             "minorgridcolor": "white",
             "startlinecolor": "#2a3f5f"
            },
            "baxis": {
             "endlinecolor": "#2a3f5f",
             "gridcolor": "white",
             "linecolor": "white",
             "minorgridcolor": "white",
             "startlinecolor": "#2a3f5f"
            },
            "type": "carpet"
           }
          ],
          "choropleth": [
           {
            "colorbar": {
             "outlinewidth": 0,
             "ticks": ""
            },
            "type": "choropleth"
           }
          ],
          "contour": [
           {
            "colorbar": {
             "outlinewidth": 0,
             "ticks": ""
            },
            "colorscale": [
             [
              0,
              "#0d0887"
             ],
             [
              0.1111111111111111,
              "#46039f"
             ],
             [
              0.2222222222222222,
              "#7201a8"
             ],
             [
              0.3333333333333333,
              "#9c179e"
             ],
             [
              0.4444444444444444,
              "#bd3786"
             ],
             [
              0.5555555555555556,
              "#d8576b"
             ],
             [
              0.6666666666666666,
              "#ed7953"
             ],
             [
              0.7777777777777778,
              "#fb9f3a"
             ],
             [
              0.8888888888888888,
              "#fdca26"
             ],
             [
              1,
              "#f0f921"
             ]
            ],
            "type": "contour"
           }
          ],
          "contourcarpet": [
           {
            "colorbar": {
             "outlinewidth": 0,
             "ticks": ""
            },
            "type": "contourcarpet"
           }
          ],
          "heatmap": [
           {
            "colorbar": {
             "outlinewidth": 0,
             "ticks": ""
            },
            "colorscale": [
             [
              0,
              "#0d0887"
             ],
             [
              0.1111111111111111,
              "#46039f"
             ],
             [
              0.2222222222222222,
              "#7201a8"
             ],
             [
              0.3333333333333333,
              "#9c179e"
             ],
             [
              0.4444444444444444,
              "#bd3786"
             ],
             [
              0.5555555555555556,
              "#d8576b"
             ],
             [
              0.6666666666666666,
              "#ed7953"
             ],
             [
              0.7777777777777778,
              "#fb9f3a"
             ],
             [
              0.8888888888888888,
              "#fdca26"
             ],
             [
              1,
              "#f0f921"
             ]
            ],
            "type": "heatmap"
           }
          ],
          "heatmapgl": [
           {
            "colorbar": {
             "outlinewidth": 0,
             "ticks": ""
            },
            "colorscale": [
             [
              0,
              "#0d0887"
             ],
             [
              0.1111111111111111,
              "#46039f"
             ],
             [
              0.2222222222222222,
              "#7201a8"
             ],
             [
              0.3333333333333333,
              "#9c179e"
             ],
             [
              0.4444444444444444,
              "#bd3786"
             ],
             [
              0.5555555555555556,
              "#d8576b"
             ],
             [
              0.6666666666666666,
              "#ed7953"
             ],
             [
              0.7777777777777778,
              "#fb9f3a"
             ],
             [
              0.8888888888888888,
              "#fdca26"
             ],
             [
              1,
              "#f0f921"
             ]
            ],
            "type": "heatmapgl"
           }
          ],
          "histogram": [
           {
            "marker": {
             "colorbar": {
              "outlinewidth": 0,
              "ticks": ""
             }
            },
            "type": "histogram"
           }
          ],
          "histogram2d": [
           {
            "colorbar": {
             "outlinewidth": 0,
             "ticks": ""
            },
            "colorscale": [
             [
              0,
              "#0d0887"
             ],
             [
              0.1111111111111111,
              "#46039f"
             ],
             [
              0.2222222222222222,
              "#7201a8"
             ],
             [
              0.3333333333333333,
              "#9c179e"
             ],
             [
              0.4444444444444444,
              "#bd3786"
             ],
             [
              0.5555555555555556,
              "#d8576b"
             ],
             [
              0.6666666666666666,
              "#ed7953"
             ],
             [
              0.7777777777777778,
              "#fb9f3a"
             ],
             [
              0.8888888888888888,
              "#fdca26"
             ],
             [
              1,
              "#f0f921"
             ]
            ],
            "type": "histogram2d"
           }
          ],
          "histogram2dcontour": [
           {
            "colorbar": {
             "outlinewidth": 0,
             "ticks": ""
            },
            "colorscale": [
             [
              0,
              "#0d0887"
             ],
             [
              0.1111111111111111,
              "#46039f"
             ],
             [
              0.2222222222222222,
              "#7201a8"
             ],
             [
              0.3333333333333333,
              "#9c179e"
             ],
             [
              0.4444444444444444,
              "#bd3786"
             ],
             [
              0.5555555555555556,
              "#d8576b"
             ],
             [
              0.6666666666666666,
              "#ed7953"
             ],
             [
              0.7777777777777778,
              "#fb9f3a"
             ],
             [
              0.8888888888888888,
              "#fdca26"
             ],
             [
              1,
              "#f0f921"
             ]
            ],
            "type": "histogram2dcontour"
           }
          ],
          "mesh3d": [
           {
            "colorbar": {
             "outlinewidth": 0,
             "ticks": ""
            },
            "type": "mesh3d"
           }
          ],
          "parcoords": [
           {
            "line": {
             "colorbar": {
              "outlinewidth": 0,
              "ticks": ""
             }
            },
            "type": "parcoords"
           }
          ],
          "scatter": [
           {
            "marker": {
             "colorbar": {
              "outlinewidth": 0,
              "ticks": ""
             }
            },
            "type": "scatter"
           }
          ],
          "scatter3d": [
           {
            "line": {
             "colorbar": {
              "outlinewidth": 0,
              "ticks": ""
             }
            },
            "marker": {
             "colorbar": {
              "outlinewidth": 0,
              "ticks": ""
             }
            },
            "type": "scatter3d"
           }
          ],
          "scattercarpet": [
           {
            "marker": {
             "colorbar": {
              "outlinewidth": 0,
              "ticks": ""
             }
            },
            "type": "scattercarpet"
           }
          ],
          "scattergeo": [
           {
            "marker": {
             "colorbar": {
              "outlinewidth": 0,
              "ticks": ""
             }
            },
            "type": "scattergeo"
           }
          ],
          "scattergl": [
           {
            "marker": {
             "colorbar": {
              "outlinewidth": 0,
              "ticks": ""
             }
            },
            "type": "scattergl"
           }
          ],
          "scattermapbox": [
           {
            "marker": {
             "colorbar": {
              "outlinewidth": 0,
              "ticks": ""
             }
            },
            "type": "scattermapbox"
           }
          ],
          "scatterpolar": [
           {
            "marker": {
             "colorbar": {
              "outlinewidth": 0,
              "ticks": ""
             }
            },
            "type": "scatterpolar"
           }
          ],
          "scatterpolargl": [
           {
            "marker": {
             "colorbar": {
              "outlinewidth": 0,
              "ticks": ""
             }
            },
            "type": "scatterpolargl"
           }
          ],
          "scatterternary": [
           {
            "marker": {
             "colorbar": {
              "outlinewidth": 0,
              "ticks": ""
             }
            },
            "type": "scatterternary"
           }
          ],
          "surface": [
           {
            "colorbar": {
             "outlinewidth": 0,
             "ticks": ""
            },
            "colorscale": [
             [
              0,
              "#0d0887"
             ],
             [
              0.1111111111111111,
              "#46039f"
             ],
             [
              0.2222222222222222,
              "#7201a8"
             ],
             [
              0.3333333333333333,
              "#9c179e"
             ],
             [
              0.4444444444444444,
              "#bd3786"
             ],
             [
              0.5555555555555556,
              "#d8576b"
             ],
             [
              0.6666666666666666,
              "#ed7953"
             ],
             [
              0.7777777777777778,
              "#fb9f3a"
             ],
             [
              0.8888888888888888,
              "#fdca26"
             ],
             [
              1,
              "#f0f921"
             ]
            ],
            "type": "surface"
           }
          ],
          "table": [
           {
            "cells": {
             "fill": {
              "color": "#EBF0F8"
             },
             "line": {
              "color": "white"
             }
            },
            "header": {
             "fill": {
              "color": "#C8D4E3"
             },
             "line": {
              "color": "white"
             }
            },
            "type": "table"
           }
          ]
         },
         "layout": {
          "annotationdefaults": {
           "arrowcolor": "#2a3f5f",
           "arrowhead": 0,
           "arrowwidth": 1
          },
          "colorscale": {
           "diverging": [
            [
             0,
             "#8e0152"
            ],
            [
             0.1,
             "#c51b7d"
            ],
            [
             0.2,
             "#de77ae"
            ],
            [
             0.3,
             "#f1b6da"
            ],
            [
             0.4,
             "#fde0ef"
            ],
            [
             0.5,
             "#f7f7f7"
            ],
            [
             0.6,
             "#e6f5d0"
            ],
            [
             0.7,
             "#b8e186"
            ],
            [
             0.8,
             "#7fbc41"
            ],
            [
             0.9,
             "#4d9221"
            ],
            [
             1,
             "#276419"
            ]
           ],
           "sequential": [
            [
             0,
             "#0d0887"
            ],
            [
             0.1111111111111111,
             "#46039f"
            ],
            [
             0.2222222222222222,
             "#7201a8"
            ],
            [
             0.3333333333333333,
             "#9c179e"
            ],
            [
             0.4444444444444444,
             "#bd3786"
            ],
            [
             0.5555555555555556,
             "#d8576b"
            ],
            [
             0.6666666666666666,
             "#ed7953"
            ],
            [
             0.7777777777777778,
             "#fb9f3a"
            ],
            [
             0.8888888888888888,
             "#fdca26"
            ],
            [
             1,
             "#f0f921"
            ]
           ],
           "sequentialminus": [
            [
             0,
             "#0d0887"
            ],
            [
             0.1111111111111111,
             "#46039f"
            ],
            [
             0.2222222222222222,
             "#7201a8"
            ],
            [
             0.3333333333333333,
             "#9c179e"
            ],
            [
             0.4444444444444444,
             "#bd3786"
            ],
            [
             0.5555555555555556,
             "#d8576b"
            ],
            [
             0.6666666666666666,
             "#ed7953"
            ],
            [
             0.7777777777777778,
             "#fb9f3a"
            ],
            [
             0.8888888888888888,
             "#fdca26"
            ],
            [
             1,
             "#f0f921"
            ]
           ]
          },
          "colorway": [
           "#636efa",
           "#EF553B",
           "#00cc96",
           "#ab63fa",
           "#FFA15A",
           "#19d3f3",
           "#FF6692",
           "#B6E880",
           "#FF97FF",
           "#FECB52"
          ],
          "font": {
           "color": "#2a3f5f"
          },
          "geo": {
           "bgcolor": "white",
           "lakecolor": "white",
           "landcolor": "#E5ECF6",
           "showlakes": true,
           "showland": true,
           "subunitcolor": "white"
          },
          "hoverlabel": {
           "align": "left"
          },
          "hovermode": "closest",
          "mapbox": {
           "style": "light"
          },
          "paper_bgcolor": "white",
          "plot_bgcolor": "#E5ECF6",
          "polar": {
           "angularaxis": {
            "gridcolor": "white",
            "linecolor": "white",
            "ticks": ""
           },
           "bgcolor": "#E5ECF6",
           "radialaxis": {
            "gridcolor": "white",
            "linecolor": "white",
            "ticks": ""
           }
          },
          "scene": {
           "xaxis": {
            "backgroundcolor": "#E5ECF6",
            "gridcolor": "white",
            "gridwidth": 2,
            "linecolor": "white",
            "showbackground": true,
            "ticks": "",
            "zerolinecolor": "white"
           },
           "yaxis": {
            "backgroundcolor": "#E5ECF6",
            "gridcolor": "white",
            "gridwidth": 2,
            "linecolor": "white",
            "showbackground": true,
            "ticks": "",
            "zerolinecolor": "white"
           },
           "zaxis": {
            "backgroundcolor": "#E5ECF6",
            "gridcolor": "white",
            "gridwidth": 2,
            "linecolor": "white",
            "showbackground": true,
            "ticks": "",
            "zerolinecolor": "white"
           }
          },
          "shapedefaults": {
           "line": {
            "color": "#2a3f5f"
           }
          },
          "ternary": {
           "aaxis": {
            "gridcolor": "white",
            "linecolor": "white",
            "ticks": ""
           },
           "baxis": {
            "gridcolor": "white",
            "linecolor": "white",
            "ticks": ""
           },
           "bgcolor": "#E5ECF6",
           "caxis": {
            "gridcolor": "white",
            "linecolor": "white",
            "ticks": ""
           }
          },
          "title": {
           "x": 0.05
          },
          "xaxis": {
           "automargin": true,
           "gridcolor": "white",
           "linecolor": "white",
           "ticks": "",
           "zerolinecolor": "white",
           "zerolinewidth": 2
          },
          "yaxis": {
           "automargin": true,
           "gridcolor": "white",
           "linecolor": "white",
           "ticks": "",
           "zerolinecolor": "white",
           "zerolinewidth": 2
          }
         }
        },
        "updatemenus": [
         {
          "buttons": [
           {
            "args": [
             "visible",
             [
              true,
              false,
              false
             ]
            ],
            "label": "Year: 1995",
            "method": "restyle"
           },
           {
            "args": [
             "visible",
             [
              false,
              true,
              false
             ]
            ],
            "label": "Year: 2005",
            "method": "restyle"
           },
           {
            "args": [
             "visible",
             [
              false,
              false,
              true
             ]
            ],
            "label": "Year: 2015",
            "method": "restyle"
           }
          ],
          "x": -0.05,
          "y": 1,
          "yanchor": "top"
         }
        ]
       }
      },
      "text/html": [
       "<div>\n",
       "        \n",
       "        \n",
       "            <div id=\"d434a677-f1ec-41d7-bdcf-63d693bbe1a4\" class=\"plotly-graph-div\" style=\"height:525px; width:100%;\"></div>\n",
       "            <script type=\"text/javascript\">\n",
       "                require([\"plotly\"], function(Plotly) {\n",
       "                    window.PLOTLYENV=window.PLOTLYENV || {};\n",
       "                    \n",
       "                if (document.getElementById(\"d434a677-f1ec-41d7-bdcf-63d693bbe1a4\")) {\n",
       "                    Plotly.newPlot(\n",
       "                        'd434a677-f1ec-41d7-bdcf-63d693bbe1a4',\n",
       "                        [{\"colorbar\": {\"title\": {\"text\": \"1995\"}}, \"colorscale\": [[0.0, \"rgb(255,255,229)\"], [0.125, \"rgb(247,252,185)\"], [0.25, \"rgb(217,240,163)\"], [0.375, \"rgb(173,221,142)\"], [0.5, \"rgb(120,198,121)\"], [0.625, \"rgb(65,171,93)\"], [0.75, \"rgb(35,132,67)\"], [0.875, \"rgb(0,104,55)\"], [1.0, \"rgb(0,69,41)\"]], \"geojson\": \"nta_json2.json\", \"locations\": [\"SI01\", \"QN55\", \"QN46\", \"QN28\", \"SI54\", \"QN17\", \"SI05\", \"QN34\", \"QN08\", \"QN51\", \"SI32\", \"QN49\", \"QN54\", \"BK42\", \"QN44\", \"SI48\", \"QN43\", \"BK31\", \"BK50\", \"QN53\", \"BK17\", \"SI11\", \"BK45\", \"QN21\", \"QN19\", \"QN48\", \"BK43\", \"QN20\", \"QN05\", \"QN66\", \"QN42\", \"MN12\", \"BK37\", \"BK88\", \"BK58\", \"QN38\", \"QN45\", \"QN72\", \"SI45\", \"BX62\", \"QN57\", \"QN37\", \"SI24\", \"QN76\", \"MN40\", \"SI25\", \"SI07\", \"BK61\", \"QN31\", \"BX52\", \"SI36\", \"QN70\", \"QN30\", \"QN29\", \"QN33\", \"QN01\", \"QN10\", \"MN23\", \"BX31\", \"QN35\", \"QN52\", \"BK82\", \"BK28\", \"BK44\", \"QN56\", \"BK30\", \"SI35\", \"BX22\", \"QN07\", \"BK91\", \"QN61\", \"MN19\", \"BK96\", \"BK25\", \"QN02\", \"QN22\", \"QN47\", \"MN32\", \"QN62\", \"QN60\", \"BK33\", \"QN03\", \"MN13\", \"QN23\", \"QN06\", \"MN31\", \"QN41\", \"BK81\", \"SI22\", \"BX10\", \"BX03\", \"QN15\", \"BK38\", \"BK35\", \"QN63\", \"BK60\", \"BX37\", \"BK69\", \"BK29\", \"SI37\", \"SI12\", \"QN18\", \"BK83\", \"BK78\", \"SI28\", \"BK75\", \"QN27\", \"BX09\", \"QN50\", \"MN03\", \"SI14\", \"BX49\", \"BX28\", \"MN14\", \"BK46\", \"BK34\", \"MN20\", \"BK09\", \"MN36\", \"MN09\", \"BK27\", \"SI08\", \"BK32\", \"QN25\", \"MN22\", \"BK68\", \"MN15\", \"BX44\", \"MN17\", \"BK40\", \"BK73\", \"BK19\", \"BK41\", \"MN35\", \"BK63\", \"MN04\", \"MN24\", \"BX29\", \"BX55\", \"MN21\", \"QN68\", \"MN11\", \"BX13\", \"BK76\", \"MN34\", \"BX05\", \"BX08\", \"QN26\", \"QN71\", \"MN28\", \"BX59\", \"MN01\", \"MN33\", \"BK26\", \"BK77\", \"BK72\", \"BK79\", \"BX14\", \"BK85\", \"BK95\", \"BX07\", \"BX43\", \"BK90\", \"BX36\", \"BX41\", \"QN12\", \"BX63\", \"BX06\", \"BX35\", \"BX30\", \"BX39\", \"BK64\", \"BX75\", \"MN27\", \"MN25\", \"BX17\", \"BK21\", \"MN06\", \"BX26\", \"BX34\", \"BX01\", \"BX40\", \"MN50\", \"BX27\", \"BK23\", \"QN99\", \"BX33\", \"BX46\", \"BX99\", \"BK93\", \"BK99\", \"MN99\", \"QN98\"], \"type\": \"choroplethmapbox\", \"visible\": true, \"z\": [10573, 8556, 7900, 7073, 7043, 7005, 6984, 6781, 6681, 6636, 6424, 6412, 6293, 6140, 5974, 5795, 5792, 5581, 5571, 5351, 5085, 5057, 5045, 5028, 5001, 4901, 4840, 4823, 4771, 4666, 4644, 4631, 4612, 4598, 4572, 4450, 4444, 4360, 4199, 4197, 4127, 4087, 4069, 4038, 4017, 3882, 3881, 3861, 3711, 3667, 3541, 3462, 3444, 3402, 3402, 3399, 3384, 3364, 3261, 3246, 3240, 3222, 3117, 3076, 3044, 3037, 2905, 2788, 2786, 2778, 2684, 2674, 2597, 2556, 2522, 2508, 2476, 2459, 2403, 2397, 2323, 2274, 2251, 2242, 2233, 2176, 2168, 2135, 2129, 2100, 2068, 2034, 2026, 1992, 1956, 1950, 1943, 1904, 1887, 1834, 1832, 1814, 1791, 1790, 1783, 1782, 1777, 1745, 1720, 1705, 1669, 1653, 1647, 1564, 1548, 1544, 1519, 1499, 1492, 1490, 1490, 1453, 1444, 1426, 1406, 1383, 1371, 1369, 1358, 1353, 1350, 1228, 1226, 1219, 1219, 1213, 1198, 1183, 1168, 1167, 1166, 1140, 1137, 1110, 1099, 1090, 1087, 1047, 1039, 1038, 1010, 972, 951, 949, 926, 905, 888, 886, 879, 851, 828, 815, 800, 787, 747, 721, 681, 673, 659, 655, 645, 591, 570, 530, 528, 518, 517, 494, 493, 493, 471, 332, 327, 287, 273, 247, 197, 175, 83, 58, 44, 44, 21]}, {\"colorbar\": {\"title\": {\"text\": \"2005\"}}, \"colorscale\": [[0.0, \"rgb(255,255,229)\"], [0.125, \"rgb(247,252,185)\"], [0.25, \"rgb(217,240,163)\"], [0.375, \"rgb(173,221,142)\"], [0.5, \"rgb(120,198,121)\"], [0.625, \"rgb(65,171,93)\"], [0.75, \"rgb(35,132,67)\"], [0.875, \"rgb(0,104,55)\"], [1.0, \"rgb(0,69,41)\"]], \"geojson\": \"nta_json2.json\", \"locations\": [\"SI01\", \"QN46\", \"SI54\", \"SI32\", \"QN17\", \"QN55\", \"QN49\", \"SI11\", \"SI48\", \"QN28\", \"QN44\", \"QN51\", \"BK45\", \"QN43\", \"QN45\", \"BK50\", \"SI05\", \"BK31\", \"QN34\", \"BK42\", \"BK37\", \"QN21\", \"QN20\", \"BK17\", \"MN12\", \"BK58\", \"QN42\", \"QN48\", \"BK88\", \"SI07\", \"QN08\", \"QN05\", \"SI45\", \"SI24\", \"BK43\", \"QN31\", \"QN19\", \"SI36\", \"QN53\", \"QN38\", \"QN37\", \"QN72\", \"BK61\", \"QN57\", \"QN76\", \"QN54\", \"QN06\", \"QN10\", \"SI25\", \"BX31\", \"BX62\", \"MN40\", \"SI35\", \"BK28\", \"BX52\", \"QN29\", \"BK82\", \"BK30\", \"QN52\", \"QN66\", \"BK33\", \"QN47\", \"QN41\", \"QN01\", \"QN70\", \"BX22\", \"BK25\", \"BK44\", \"QN33\", \"QN56\", \"BK38\", \"MN23\", \"QN15\", \"BX10\", \"BK78\", \"BK96\", \"QN35\", \"BK91\", \"SI22\", \"SI14\", \"QN61\", \"QN30\", \"QN03\", \"SI37\", \"BK35\", \"QN63\", \"QN62\", \"QN22\", \"BK29\", \"QN02\", \"BK76\", \"BK60\", \"SI08\", \"QN23\", \"MN32\", \"BX44\", \"SI12\", \"BK46\", \"MN31\", \"BK63\", \"MN13\", \"MN03\", \"BK73\", \"BX09\", \"BK75\", \"BK34\", \"QN50\", \"BK81\", \"MN19\", \"BK09\", \"SI28\", \"BX03\", \"BK41\", \"BX37\", \"QN18\", \"QN25\", \"BX13\", \"MN09\", \"BX49\", \"MN14\", \"BK40\", \"QN07\", \"QN60\", \"MN11\", \"BX29\", \"BX28\", \"BK69\", \"BK83\", \"BK32\", \"MN20\", \"MN36\", \"MN15\", \"MN34\", \"MN24\", \"BK90\", \"QN27\", \"BX17\", \"BK72\", \"MN04\", \"BK77\", \"BK85\", \"BK21\", \"BX07\", \"BX43\", \"BK68\", \"BK64\", \"BX27\", \"MN22\", \"QN26\", \"BK27\", \"BX05\", \"BX59\", \"BX36\", \"BX55\", \"MN35\", \"MN33\", \"QN12\", \"MN17\", \"BK26\", \"MN21\", \"BK19\", \"BX41\", \"MN28\", \"MN01\", \"BX14\", \"MN25\", \"BX63\", \"BX35\", \"QN71\", \"BX33\", \"BX39\", \"BK79\", \"BX08\", \"QN68\", \"BK95\", \"BX34\", \"BX06\", \"MN27\", \"BX75\", \"BX01\", \"BX30\", \"BX26\", \"MN06\", \"QN99\", \"BX46\", \"BX40\", \"BK99\", \"BK23\", \"MN50\", \"BK93\", \"BX99\", \"MN99\", \"QN98\"], \"type\": \"choroplethmapbox\", \"visible\": false, \"z\": [13709, 10839, 9852, 8530, 8255, 7951, 7748, 7225, 7139, 7119, 7067, 6961, 6778, 6634, 6547, 6490, 6416, 6386, 6104, 5971, 5818, 5573, 5542, 5275, 5233, 5216, 5171, 5148, 5121, 5069, 5068, 5052, 5037, 4893, 4826, 4722, 4675, 4552, 4524, 4503, 4481, 4460, 4402, 4378, 4328, 4324, 4045, 3994, 3968, 3930, 3889, 3888, 3842, 3751, 3733, 3730, 3666, 3608, 3536, 3515, 3445, 3377, 3289, 3279, 3209, 3170, 3165, 3163, 3151, 3100, 3094, 3078, 3073, 3064, 3033, 2912, 2884, 2836, 2833, 2823, 2781, 2770, 2768, 2717, 2702, 2699, 2692, 2669, 2637, 2625, 2620, 2479, 2416, 2416, 2391, 2379, 2320, 2293, 2239, 2222, 2210, 2172, 2170, 2166, 2160, 2140, 2125, 2108, 2084, 2079, 2078, 2050, 2026, 1997, 1993, 1987, 1962, 1836, 1833, 1828, 1819, 1808, 1788, 1778, 1772, 1767, 1747, 1638, 1635, 1623, 1618, 1602, 1586, 1584, 1581, 1568, 1548, 1495, 1486, 1416, 1402, 1398, 1390, 1387, 1382, 1326, 1323, 1306, 1284, 1276, 1254, 1252, 1212, 1168, 1167, 1163, 1161, 1142, 1117, 1097, 1055, 1042, 1038, 1032, 981, 959, 937, 924, 915, 911, 890, 889, 878, 876, 822, 752, 691, 681, 673, 666, 666, 598, 566, 462, 436, 435, 370, 366, 330, 195, 130, 77, 12]}, {\"colorbar\": {\"title\": {\"text\": \"2015\"}}, \"colorscale\": [[0.0, \"rgb(255,255,229)\"], [0.125, \"rgb(247,252,185)\"], [0.25, \"rgb(217,240,163)\"], [0.375, \"rgb(173,221,142)\"], [0.5, \"rgb(120,198,121)\"], [0.625, \"rgb(65,171,93)\"], [0.75, \"rgb(35,132,67)\"], [0.875, \"rgb(0,104,55)\"], [1.0, \"rgb(0,69,41)\"]], \"geojson\": \"nta_json2.json\", \"locations\": [\"SI01\", \"SI54\", \"QN46\", \"BK82\", \"SI32\", \"SI05\", \"SI11\", \"QN17\", \"QN49\", \"BK45\", \"QN55\", \"QN45\", \"QN08\", \"QN51\", \"BK31\", \"SI48\", \"QN28\", \"QN34\", \"QN44\", \"QN20\", \"BK61\", \"BK37\", \"QN43\", \"BK42\", \"QN42\", \"BK50\", \"BK88\", \"MN12\", \"SI25\", \"BK58\", \"SI45\", \"QN72\", \"QN05\", \"QN21\", \"QN48\", \"BK17\", \"QN31\", \"QN54\", \"QN37\", \"BX52\", \"QN38\", \"QN15\", \"SI07\", \"SI36\", \"BK43\", \"SI24\", \"QN76\", \"MN40\", \"QN57\", \"QN66\", \"BK78\", \"QN19\", \"QN70\", \"QN10\", \"BK33\", \"QN53\", \"BK28\", \"QN06\", \"QN61\", \"BK25\", \"BX62\", \"QN01\", \"SI22\", \"BK35\", \"BX31\", \"SI37\", \"MN23\", \"BX09\", \"SI12\", \"QN03\", \"BK75\", \"BK83\", \"BK44\", \"SI35\", \"BX27\", \"MN03\", \"BK73\", \"QN23\", \"BK77\", \"BK76\", \"BX44\", \"BK29\", \"QN33\", \"BK96\", \"QN29\", \"QN30\", \"QN35\", \"BK30\", \"QN52\", \"QN56\", \"BK32\", \"QN22\", \"BK34\", \"BX10\", \"QN12\", \"BK60\", \"BX37\", \"BK81\", \"SI28\", \"QN62\", \"BK69\", \"BK91\", \"BK85\", \"MN36\", \"MN13\", \"QN02\", \"BK38\", \"QN47\", \"QN41\", \"BX59\", \"MN09\", \"QN63\", \"MN35\", \"MN11\", \"BX03\", \"BX17\", \"MN34\", \"QN07\", \"BK46\", \"BX39\", \"SI08\", \"BX14\", \"QN18\", \"MN04\", \"BX28\", \"BK79\", \"BX35\", \"MN31\", \"BX49\", \"BK90\", \"BK41\", \"BK40\", \"MN32\", \"QN26\", \"MN19\", \"MN24\", \"QN27\", \"BX34\", \"BK68\", \"BX63\", \"SI14\", \"BK63\", \"BX13\", \"QN25\", \"MN14\", \"BX41\", \"QN60\", \"BX22\", \"BX29\", \"MN33\", \"MN15\", \"BX36\", \"QN50\", \"BX43\", \"BX26\", \"MN28\", \"BX55\", \"BX05\", \"BK27\", \"BK09\", \"MN01\", \"MN20\", \"BX01\", \"BK72\", \"BX06\", \"BX08\", \"MN22\", \"BX33\", \"BX07\", \"BX75\", \"BK64\", \"MN27\", \"BK21\", \"BK26\", \"BK95\", \"QN68\", \"QN71\", \"MN25\", \"BK19\", \"MN17\", \"BX30\", \"MN21\", \"BX40\", \"MN06\", \"BX46\", \"BK93\", \"BK23\", \"MN50\"], \"type\": \"choroplethmapbox\", \"visible\": false, \"z\": [12969, 10734, 9780, 9607, 9251, 8446, 8216, 7701, 7620, 7449, 7321, 7302, 7239, 7133, 7026, 6999, 6863, 6856, 6814, 6481, 6411, 6314, 6246, 6116, 6059, 5994, 5955, 5881, 5675, 5589, 5452, 5436, 5372, 5345, 5332, 5321, 5242, 5101, 5088, 5023, 4985, 4972, 4954, 4952, 4860, 4823, 4815, 4673, 4627, 4623, 4538, 4509, 4393, 4351, 4346, 4260, 4258, 4254, 4252, 4247, 4083, 4077, 3970, 3879, 3843, 3840, 3837, 3819, 3776, 3754, 3702, 3644, 3644, 3539, 3521, 3515, 3484, 3474, 3455, 3375, 3371, 3348, 3324, 3312, 3307, 3290, 3278, 3248, 3247, 3244, 3243, 3227, 3224, 3196, 3187, 3169, 3143, 3092, 3084, 3020, 3017, 3008, 2991, 2990, 2988, 2967, 2937, 2906, 2872, 2820, 2751, 2739, 2684, 2670, 2629, 2593, 2591, 2553, 2537, 2517, 2505, 2498, 2460, 2407, 2399, 2340, 2330, 2327, 2312, 2296, 2295, 2290, 2269, 2264, 2253, 2215, 2165, 2156, 2150, 2142, 2133, 2120, 2103, 2070, 2065, 2051, 2024, 2019, 2017, 2014, 2008, 2002, 1996, 1981, 1979, 1943, 1921, 1821, 1818, 1767, 1754, 1746, 1706, 1658, 1637, 1623, 1575, 1572, 1550, 1546, 1535, 1474, 1454, 1412, 1395, 1366, 1341, 1311, 1281, 1196, 1184, 1172, 1060, 913, 790, 688, 481, 447]}],\n",
       "                        {\"mapbox\": {\"center\": {\"lat\": 40.7, \"lon\": -73.86}, \"style\": \"carto-positron\", \"zoom\": 9}, \"margin\": {\"b\": 0, \"l\": 0, \"r\": 0, \"t\": 0}, \"template\": {\"data\": {\"bar\": [{\"error_x\": {\"color\": \"#2a3f5f\"}, \"error_y\": {\"color\": \"#2a3f5f\"}, \"marker\": {\"line\": {\"color\": \"#E5ECF6\", \"width\": 0.5}}, \"type\": \"bar\"}], \"barpolar\": [{\"marker\": {\"line\": {\"color\": \"#E5ECF6\", \"width\": 0.5}}, \"type\": \"barpolar\"}], \"carpet\": [{\"aaxis\": {\"endlinecolor\": \"#2a3f5f\", \"gridcolor\": \"white\", \"linecolor\": \"white\", \"minorgridcolor\": \"white\", \"startlinecolor\": \"#2a3f5f\"}, \"baxis\": {\"endlinecolor\": \"#2a3f5f\", \"gridcolor\": \"white\", \"linecolor\": \"white\", \"minorgridcolor\": \"white\", \"startlinecolor\": \"#2a3f5f\"}, \"type\": \"carpet\"}], \"choropleth\": [{\"colorbar\": {\"outlinewidth\": 0, \"ticks\": \"\"}, \"type\": \"choropleth\"}], \"contour\": [{\"colorbar\": {\"outlinewidth\": 0, \"ticks\": \"\"}, \"colorscale\": [[0.0, \"#0d0887\"], [0.1111111111111111, \"#46039f\"], [0.2222222222222222, \"#7201a8\"], [0.3333333333333333, \"#9c179e\"], [0.4444444444444444, \"#bd3786\"], [0.5555555555555556, \"#d8576b\"], [0.6666666666666666, \"#ed7953\"], [0.7777777777777778, \"#fb9f3a\"], [0.8888888888888888, \"#fdca26\"], [1.0, \"#f0f921\"]], \"type\": \"contour\"}], \"contourcarpet\": [{\"colorbar\": {\"outlinewidth\": 0, \"ticks\": \"\"}, \"type\": \"contourcarpet\"}], \"heatmap\": [{\"colorbar\": {\"outlinewidth\": 0, \"ticks\": \"\"}, \"colorscale\": [[0.0, \"#0d0887\"], [0.1111111111111111, \"#46039f\"], [0.2222222222222222, \"#7201a8\"], [0.3333333333333333, \"#9c179e\"], [0.4444444444444444, \"#bd3786\"], [0.5555555555555556, \"#d8576b\"], [0.6666666666666666, \"#ed7953\"], [0.7777777777777778, \"#fb9f3a\"], [0.8888888888888888, \"#fdca26\"], [1.0, \"#f0f921\"]], \"type\": \"heatmap\"}], \"heatmapgl\": [{\"colorbar\": {\"outlinewidth\": 0, \"ticks\": \"\"}, \"colorscale\": [[0.0, \"#0d0887\"], [0.1111111111111111, \"#46039f\"], [0.2222222222222222, \"#7201a8\"], [0.3333333333333333, \"#9c179e\"], [0.4444444444444444, \"#bd3786\"], [0.5555555555555556, \"#d8576b\"], [0.6666666666666666, \"#ed7953\"], [0.7777777777777778, \"#fb9f3a\"], [0.8888888888888888, \"#fdca26\"], [1.0, \"#f0f921\"]], \"type\": \"heatmapgl\"}], \"histogram\": [{\"marker\": {\"colorbar\": {\"outlinewidth\": 0, \"ticks\": \"\"}}, \"type\": \"histogram\"}], \"histogram2d\": [{\"colorbar\": {\"outlinewidth\": 0, \"ticks\": \"\"}, \"colorscale\": [[0.0, \"#0d0887\"], [0.1111111111111111, \"#46039f\"], [0.2222222222222222, \"#7201a8\"], [0.3333333333333333, \"#9c179e\"], [0.4444444444444444, \"#bd3786\"], [0.5555555555555556, \"#d8576b\"], [0.6666666666666666, \"#ed7953\"], [0.7777777777777778, \"#fb9f3a\"], [0.8888888888888888, \"#fdca26\"], [1.0, \"#f0f921\"]], \"type\": \"histogram2d\"}], \"histogram2dcontour\": [{\"colorbar\": {\"outlinewidth\": 0, \"ticks\": \"\"}, \"colorscale\": [[0.0, \"#0d0887\"], [0.1111111111111111, \"#46039f\"], [0.2222222222222222, \"#7201a8\"], [0.3333333333333333, \"#9c179e\"], [0.4444444444444444, \"#bd3786\"], [0.5555555555555556, \"#d8576b\"], [0.6666666666666666, \"#ed7953\"], [0.7777777777777778, \"#fb9f3a\"], [0.8888888888888888, \"#fdca26\"], [1.0, \"#f0f921\"]], \"type\": \"histogram2dcontour\"}], \"mesh3d\": [{\"colorbar\": {\"outlinewidth\": 0, \"ticks\": \"\"}, \"type\": \"mesh3d\"}], \"parcoords\": [{\"line\": {\"colorbar\": {\"outlinewidth\": 0, \"ticks\": \"\"}}, \"type\": \"parcoords\"}], \"scatter\": [{\"marker\": {\"colorbar\": {\"outlinewidth\": 0, \"ticks\": \"\"}}, \"type\": \"scatter\"}], \"scatter3d\": [{\"line\": {\"colorbar\": {\"outlinewidth\": 0, \"ticks\": \"\"}}, \"marker\": {\"colorbar\": {\"outlinewidth\": 0, \"ticks\": \"\"}}, \"type\": \"scatter3d\"}], \"scattercarpet\": [{\"marker\": {\"colorbar\": {\"outlinewidth\": 0, \"ticks\": \"\"}}, \"type\": \"scattercarpet\"}], \"scattergeo\": [{\"marker\": {\"colorbar\": {\"outlinewidth\": 0, \"ticks\": \"\"}}, \"type\": \"scattergeo\"}], \"scattergl\": [{\"marker\": {\"colorbar\": {\"outlinewidth\": 0, \"ticks\": \"\"}}, \"type\": \"scattergl\"}], \"scattermapbox\": [{\"marker\": {\"colorbar\": {\"outlinewidth\": 0, \"ticks\": \"\"}}, \"type\": \"scattermapbox\"}], \"scatterpolar\": [{\"marker\": {\"colorbar\": {\"outlinewidth\": 0, \"ticks\": \"\"}}, \"type\": \"scatterpolar\"}], \"scatterpolargl\": [{\"marker\": {\"colorbar\": {\"outlinewidth\": 0, \"ticks\": \"\"}}, \"type\": \"scatterpolargl\"}], \"scatterternary\": [{\"marker\": {\"colorbar\": {\"outlinewidth\": 0, \"ticks\": \"\"}}, \"type\": \"scatterternary\"}], \"surface\": [{\"colorbar\": {\"outlinewidth\": 0, \"ticks\": \"\"}, \"colorscale\": [[0.0, \"#0d0887\"], [0.1111111111111111, \"#46039f\"], [0.2222222222222222, \"#7201a8\"], [0.3333333333333333, \"#9c179e\"], [0.4444444444444444, \"#bd3786\"], [0.5555555555555556, \"#d8576b\"], [0.6666666666666666, \"#ed7953\"], [0.7777777777777778, \"#fb9f3a\"], [0.8888888888888888, \"#fdca26\"], [1.0, \"#f0f921\"]], \"type\": \"surface\"}], \"table\": [{\"cells\": {\"fill\": {\"color\": \"#EBF0F8\"}, \"line\": {\"color\": \"white\"}}, \"header\": {\"fill\": {\"color\": \"#C8D4E3\"}, \"line\": {\"color\": \"white\"}}, \"type\": \"table\"}]}, \"layout\": {\"annotationdefaults\": {\"arrowcolor\": \"#2a3f5f\", \"arrowhead\": 0, \"arrowwidth\": 1}, \"colorscale\": {\"diverging\": [[0, \"#8e0152\"], [0.1, \"#c51b7d\"], [0.2, \"#de77ae\"], [0.3, \"#f1b6da\"], [0.4, \"#fde0ef\"], [0.5, \"#f7f7f7\"], [0.6, \"#e6f5d0\"], [0.7, \"#b8e186\"], [0.8, \"#7fbc41\"], [0.9, \"#4d9221\"], [1, \"#276419\"]], \"sequential\": [[0.0, \"#0d0887\"], [0.1111111111111111, \"#46039f\"], [0.2222222222222222, \"#7201a8\"], [0.3333333333333333, \"#9c179e\"], [0.4444444444444444, \"#bd3786\"], [0.5555555555555556, \"#d8576b\"], [0.6666666666666666, \"#ed7953\"], [0.7777777777777778, \"#fb9f3a\"], [0.8888888888888888, \"#fdca26\"], [1.0, \"#f0f921\"]], \"sequentialminus\": [[0.0, \"#0d0887\"], [0.1111111111111111, \"#46039f\"], [0.2222222222222222, \"#7201a8\"], [0.3333333333333333, \"#9c179e\"], [0.4444444444444444, \"#bd3786\"], [0.5555555555555556, \"#d8576b\"], [0.6666666666666666, \"#ed7953\"], [0.7777777777777778, \"#fb9f3a\"], [0.8888888888888888, \"#fdca26\"], [1.0, \"#f0f921\"]]}, \"colorway\": [\"#636efa\", \"#EF553B\", \"#00cc96\", \"#ab63fa\", \"#FFA15A\", \"#19d3f3\", \"#FF6692\", \"#B6E880\", \"#FF97FF\", \"#FECB52\"], \"font\": {\"color\": \"#2a3f5f\"}, \"geo\": {\"bgcolor\": \"white\", \"lakecolor\": \"white\", \"landcolor\": \"#E5ECF6\", \"showlakes\": true, \"showland\": true, \"subunitcolor\": \"white\"}, \"hoverlabel\": {\"align\": \"left\"}, \"hovermode\": \"closest\", \"mapbox\": {\"style\": \"light\"}, \"paper_bgcolor\": \"white\", \"plot_bgcolor\": \"#E5ECF6\", \"polar\": {\"angularaxis\": {\"gridcolor\": \"white\", \"linecolor\": \"white\", \"ticks\": \"\"}, \"bgcolor\": \"#E5ECF6\", \"radialaxis\": {\"gridcolor\": \"white\", \"linecolor\": \"white\", \"ticks\": \"\"}}, \"scene\": {\"xaxis\": {\"backgroundcolor\": \"#E5ECF6\", \"gridcolor\": \"white\", \"gridwidth\": 2, \"linecolor\": \"white\", \"showbackground\": true, \"ticks\": \"\", \"zerolinecolor\": \"white\"}, \"yaxis\": {\"backgroundcolor\": \"#E5ECF6\", \"gridcolor\": \"white\", \"gridwidth\": 2, \"linecolor\": \"white\", \"showbackground\": true, \"ticks\": \"\", \"zerolinecolor\": \"white\"}, \"zaxis\": {\"backgroundcolor\": \"#E5ECF6\", \"gridcolor\": \"white\", \"gridwidth\": 2, \"linecolor\": \"white\", \"showbackground\": true, \"ticks\": \"\", \"zerolinecolor\": \"white\"}}, \"shapedefaults\": {\"line\": {\"color\": \"#2a3f5f\"}}, \"ternary\": {\"aaxis\": {\"gridcolor\": \"white\", \"linecolor\": \"white\", \"ticks\": \"\"}, \"baxis\": {\"gridcolor\": \"white\", \"linecolor\": \"white\", \"ticks\": \"\"}, \"bgcolor\": \"#E5ECF6\", \"caxis\": {\"gridcolor\": \"white\", \"linecolor\": \"white\", \"ticks\": \"\"}}, \"title\": {\"x\": 0.05}, \"xaxis\": {\"automargin\": true, \"gridcolor\": \"white\", \"linecolor\": \"white\", \"ticks\": \"\", \"zerolinecolor\": \"white\", \"zerolinewidth\": 2}, \"yaxis\": {\"automargin\": true, \"gridcolor\": \"white\", \"linecolor\": \"white\", \"ticks\": \"\", \"zerolinecolor\": \"white\", \"zerolinewidth\": 2}}}, \"updatemenus\": [{\"buttons\": [{\"args\": [\"visible\", [true, false, false]], \"label\": \"Year: 1995\", \"method\": \"restyle\"}, {\"args\": [\"visible\", [false, true, false]], \"label\": \"Year: 2005\", \"method\": \"restyle\"}, {\"args\": [\"visible\", [false, false, true]], \"label\": \"Year: 2015\", \"method\": \"restyle\"}], \"x\": -0.05, \"y\": 1, \"yanchor\": \"top\"}]},\n",
       "                        {\"responsive\": true}\n",
       "                    ).then(function(){\n",
       "                            \n",
       "var gd = document.getElementById('d434a677-f1ec-41d7-bdcf-63d693bbe1a4');\n",
       "var x = new MutationObserver(function (mutations, observer) {{\n",
       "        var display = window.getComputedStyle(gd).display;\n",
       "        if (!display || display === 'none') {{\n",
       "            console.log([gd, 'removed!']);\n",
       "            Plotly.purge(gd);\n",
       "            observer.disconnect();\n",
       "        }}\n",
       "}});\n",
       "\n",
       "// Listen for the removal of the full notebook cells\n",
       "var notebookContainer = gd.closest('#notebook-container');\n",
       "if (notebookContainer) {{\n",
       "    x.observe(notebookContainer, {childList: true});\n",
       "}}\n",
       "\n",
       "// Listen for the clearing of the current output cell\n",
       "var outputEl = gd.closest('.output');\n",
       "if (outputEl) {{\n",
       "    x.observe(outputEl, {childList: true});\n",
       "}}\n",
       "\n",
       "                        })\n",
       "                };\n",
       "                });\n",
       "            </script>\n",
       "        </div>"
      ]
     },
     "metadata": {},
     "output_type": "display_data"
    }
   ],
   "source": [
    "data=[]\n",
    "data.append(go.Choroplethmapbox(geojson='nta_json2.json', \n",
    "                                    locations=df_1995.nta_2010.value_counts().drop(index='Unknown').index, \n",
    "                                    z=df_1995.nta_2010.value_counts().drop(index='Unknown').values,\n",
    "                                #'Unknown' tree location is by far most common (23k) but is dropped from the map\n",
    "                                    colorbar=dict(title='1995'),\n",
    "                                    colorscale=\"YlGn\"\n",
    "                                    ))\n",
    "data.append(go.Choroplethmapbox(geojson='nta_json2.json', \n",
    "                                    locations=df_2005.nta.value_counts().index, \n",
    "                                    z=df_2005.nta.value_counts().values,\n",
    "                                    colorbar=dict(title='2005'),\n",
    "                                    colorscale=\"YlGn\"\n",
    "                                    ))\n",
    "data.append(go.Choroplethmapbox(geojson='nta_json2.json', \n",
    "                                    locations=df_2015.nta.value_counts().index, \n",
    "                                    z=df_2015.nta.value_counts().values,\n",
    "                                    colorbar=dict(title='2015'),\n",
    "                                    colorscale=\"YlGn\"\n",
    "                                    ))\n",
    "data[0]['visible']=False\n",
    "data[1]['visible']=False\n",
    "data[2]['visible']=True\n",
    "layout=go.Layout(mapbox_style=\"carto-positron\",\n",
    "                  mapbox_zoom=9, mapbox_center = {\"lat\": 40.7, \"lon\": -73.86})\n",
    "#dropdown code from https://plot.ly/~empet/15237/choroplethmapbox-with-dropdown-menu/#/\n",
    "layout.update(updatemenus=list([\n",
    "        dict(\n",
    "            x=-0.05,\n",
    "            y=1,\n",
    "            yanchor='top',\n",
    "            buttons=list([\n",
    "                dict(\n",
    "                    args=['visible', [True, False,False]],\n",
    "                    label='Year: 1995',\n",
    "                    method='restyle'\n",
    "                ),\n",
    "                dict(\n",
    "                    args=['visible', [False, True, False]],\n",
    "                    label='Year: 2005',\n",
    "                    method='restyle'\n",
    "                ),\n",
    "                dict(\n",
    "                    args=['visible', [False,False, True]],\n",
    "                    label='Year: 2015',\n",
    "                    method='restyle')]))]))\n",
    "fig = go.Figure(data=data,layout=layout)\n",
    "fig.update_layout(margin={\"r\":0,\"t\":0,\"l\":0,\"b\":0})\n",
    "fig.show()"
   ]
  },
  {
   "cell_type": "code",
   "execution_count": 77,
   "metadata": {},
   "outputs": [],
   "source": [
    "nta_count_diff=nta_count_2015.merge(nta_count_2005, on='index')"
   ]
  },
  {
   "cell_type": "code",
   "execution_count": 78,
   "metadata": {},
   "outputs": [
    {
     "data": {
      "text/html": [
       "<div>\n",
       "<style scoped>\n",
       "    .dataframe tbody tr th:only-of-type {\n",
       "        vertical-align: middle;\n",
       "    }\n",
       "\n",
       "    .dataframe tbody tr th {\n",
       "        vertical-align: top;\n",
       "    }\n",
       "\n",
       "    .dataframe thead th {\n",
       "        text-align: right;\n",
       "    }\n",
       "</style>\n",
       "<table border=\"1\" class=\"dataframe\">\n",
       "  <thead>\n",
       "    <tr style=\"text-align: right;\">\n",
       "      <th></th>\n",
       "      <th>index</th>\n",
       "      <th>nta_x</th>\n",
       "      <th>nta_y</th>\n",
       "    </tr>\n",
       "  </thead>\n",
       "  <tbody>\n",
       "    <tr>\n",
       "      <th>0</th>\n",
       "      <td>SI01</td>\n",
       "      <td>12969</td>\n",
       "      <td>13709</td>\n",
       "    </tr>\n",
       "    <tr>\n",
       "      <th>1</th>\n",
       "      <td>SI54</td>\n",
       "      <td>10734</td>\n",
       "      <td>9852</td>\n",
       "    </tr>\n",
       "    <tr>\n",
       "      <th>2</th>\n",
       "      <td>QN46</td>\n",
       "      <td>9780</td>\n",
       "      <td>10839</td>\n",
       "    </tr>\n",
       "    <tr>\n",
       "      <th>3</th>\n",
       "      <td>BK82</td>\n",
       "      <td>9607</td>\n",
       "      <td>3666</td>\n",
       "    </tr>\n",
       "    <tr>\n",
       "      <th>4</th>\n",
       "      <td>SI32</td>\n",
       "      <td>9251</td>\n",
       "      <td>8530</td>\n",
       "    </tr>\n",
       "  </tbody>\n",
       "</table>\n",
       "</div>"
      ],
      "text/plain": [
       "  index  nta_x  nta_y\n",
       "0  SI01  12969  13709\n",
       "1  SI54  10734   9852\n",
       "2  QN46   9780  10839\n",
       "3  BK82   9607   3666\n",
       "4  SI32   9251   8530"
      ]
     },
     "execution_count": 78,
     "metadata": {},
     "output_type": "execute_result"
    }
   ],
   "source": [
    "nta_count_diff.head()"
   ]
  },
  {
   "cell_type": "code",
   "execution_count": 80,
   "metadata": {},
   "outputs": [
    {
     "data": {
      "text/html": [
       "<div>\n",
       "<style scoped>\n",
       "    .dataframe tbody tr th:only-of-type {\n",
       "        vertical-align: middle;\n",
       "    }\n",
       "\n",
       "    .dataframe tbody tr th {\n",
       "        vertical-align: top;\n",
       "    }\n",
       "\n",
       "    .dataframe thead th {\n",
       "        text-align: right;\n",
       "    }\n",
       "</style>\n",
       "<table border=\"1\" class=\"dataframe\">\n",
       "  <thead>\n",
       "    <tr style=\"text-align: right;\">\n",
       "      <th></th>\n",
       "      <th>index</th>\n",
       "      <th>nta_x</th>\n",
       "      <th>nta_y</th>\n",
       "      <th>change</th>\n",
       "    </tr>\n",
       "  </thead>\n",
       "  <tbody>\n",
       "    <tr>\n",
       "      <th>0</th>\n",
       "      <td>SI01</td>\n",
       "      <td>12969</td>\n",
       "      <td>13709</td>\n",
       "      <td>-740</td>\n",
       "    </tr>\n",
       "    <tr>\n",
       "      <th>1</th>\n",
       "      <td>SI54</td>\n",
       "      <td>10734</td>\n",
       "      <td>9852</td>\n",
       "      <td>882</td>\n",
       "    </tr>\n",
       "    <tr>\n",
       "      <th>2</th>\n",
       "      <td>QN46</td>\n",
       "      <td>9780</td>\n",
       "      <td>10839</td>\n",
       "      <td>-1059</td>\n",
       "    </tr>\n",
       "    <tr>\n",
       "      <th>3</th>\n",
       "      <td>BK82</td>\n",
       "      <td>9607</td>\n",
       "      <td>3666</td>\n",
       "      <td>5941</td>\n",
       "    </tr>\n",
       "    <tr>\n",
       "      <th>4</th>\n",
       "      <td>SI32</td>\n",
       "      <td>9251</td>\n",
       "      <td>8530</td>\n",
       "      <td>721</td>\n",
       "    </tr>\n",
       "  </tbody>\n",
       "</table>\n",
       "</div>"
      ],
      "text/plain": [
       "  index  nta_x  nta_y  change\n",
       "0  SI01  12969  13709    -740\n",
       "1  SI54  10734   9852     882\n",
       "2  QN46   9780  10839   -1059\n",
       "3  BK82   9607   3666    5941\n",
       "4  SI32   9251   8530     721"
      ]
     },
     "execution_count": 80,
     "metadata": {},
     "output_type": "execute_result"
    }
   ],
   "source": [
    "nta_count_diff['change']=nta_count_diff['nta_x']-nta_count_diff['nta_y']\n",
    "nta_count_diff.head()"
   ]
  },
  {
   "cell_type": "code",
   "execution_count": 93,
   "metadata": {},
   "outputs": [
    {
     "data": {
      "application/vnd.plotly.v1+json": {
       "config": {
        "plotlyServerURL": "https://plot.ly"
       },
       "data": [
        {
         "colorbar": {
          "title": {
           "text": "2015-2005 Change"
          }
         },
         "colorscale": [
          [
           0,
           "red"
          ],
          [
           0.15,
           "yellow"
          ],
          [
           1,
           "green"
          ]
         ],
         "geojson": "nta_json2.json",
         "locations": [
          "SI01",
          "SI54",
          "QN46",
          "BK82",
          "SI32",
          "SI05",
          "SI11",
          "QN17",
          "QN49",
          "BK45",
          "QN55",
          "QN45",
          "QN08",
          "QN51",
          "BK31",
          "SI48",
          "QN28",
          "QN34",
          "QN44",
          "QN20",
          "BK61",
          "BK37",
          "QN43",
          "BK42",
          "QN42",
          "BK50",
          "BK88",
          "MN12",
          "SI25",
          "BK58",
          "SI45",
          "QN72",
          "QN05",
          "QN21",
          "QN48",
          "BK17",
          "QN31",
          "QN54",
          "QN37",
          "BX52",
          "QN38",
          "QN15",
          "SI07",
          "SI36",
          "BK43",
          "SI24",
          "QN76",
          "MN40",
          "QN57",
          "QN66",
          "BK78",
          "QN19",
          "QN70",
          "QN10",
          "BK33",
          "QN53",
          "BK28",
          "QN06",
          "QN61",
          "BK25",
          "BX62",
          "QN01",
          "SI22",
          "BK35",
          "BX31",
          "SI37",
          "MN23",
          "BX09",
          "SI12",
          "QN03",
          "BK75",
          "BK83",
          "BK44",
          "SI35",
          "BX27",
          "MN03",
          "BK73",
          "QN23",
          "BK77",
          "BK76",
          "BX44",
          "BK29",
          "QN33",
          "BK96",
          "QN29",
          "QN30",
          "QN35",
          "BK30",
          "QN52",
          "QN56",
          "BK32",
          "QN22",
          "BK34",
          "BX10",
          "QN12",
          "BK60",
          "BX37",
          "BK81",
          "SI28",
          "QN62",
          "BK69",
          "BK91",
          "BK85",
          "MN36",
          "MN13",
          "QN02",
          "BK38",
          "QN47",
          "QN41",
          "BX59",
          "MN09",
          "QN63",
          "MN35",
          "MN11",
          "BX03",
          "BX17",
          "MN34",
          "QN07",
          "BK46",
          "BX39",
          "SI08",
          "BX14",
          "QN18",
          "MN04",
          "BX28",
          "BK79",
          "BX35",
          "MN31",
          "BX49",
          "BK90",
          "BK41",
          "BK40",
          "MN32",
          "QN26",
          "MN19",
          "MN24",
          "QN27",
          "BX34",
          "BK68",
          "BX63",
          "SI14",
          "BK63",
          "BX13",
          "QN25",
          "MN14",
          "BX41",
          "QN60",
          "BX22",
          "BX29",
          "MN33",
          "MN15",
          "BX36",
          "QN50",
          "BX43",
          "BX26",
          "MN28",
          "BX55",
          "BX05",
          "BK27",
          "BK09",
          "MN01",
          "MN20",
          "BX01",
          "BK72",
          "BX06",
          "BX08",
          "MN22",
          "BX33",
          "BX07",
          "BX75",
          "BK64",
          "MN27",
          "BK21",
          "BK26",
          "BK95",
          "QN68",
          "QN71",
          "MN25",
          "BK19",
          "MN17",
          "BX30",
          "MN21",
          "BX40",
          "MN06",
          "BX46",
          "BK93",
          "BK23",
          "MN50"
         ],
         "type": "choroplethmapbox",
         "z": [
          -740,
          882,
          -1059,
          5941,
          721,
          2030,
          991,
          -554,
          -128,
          671,
          -630,
          755,
          2171,
          172,
          640,
          -140,
          -256,
          752,
          -253,
          939,
          2009,
          496,
          -388,
          145,
          888,
          -496,
          834,
          648,
          1707,
          373,
          415,
          976,
          320,
          -228,
          184,
          46,
          520,
          777,
          607,
          1290,
          482,
          1899,
          -115,
          400,
          34,
          -70,
          487,
          785,
          249,
          1108,
          1505,
          -166,
          1184,
          357,
          901,
          -264,
          507,
          209,
          1471,
          1082,
          194,
          798,
          1137,
          1177,
          -87,
          1123,
          759,
          1653,
          1456,
          986,
          1542,
          2006,
          481,
          -303,
          2198,
          1343,
          1314,
          1058,
          2039,
          755,
          992,
          711,
          173,
          400,
          -423,
          520,
          394,
          -360,
          -289,
          144,
          1608,
          558,
          1084,
          132,
          2026,
          690,
          1146,
          984,
          1006,
          328,
          1270,
          172,
          1589,
          1372,
          778,
          342,
          -157,
          -471,
          -417,
          1568,
          915,
          40,
          1517,
          892,
          579,
          1045,
          1005,
          745,
          244,
          1627,
          89,
          1517,
          467,
          921,
          632,
          1451,
          1406,
          88,
          479,
          715,
          269,
          471,
          -122,
          980,
          169,
          631,
          597,
          1404,
          768,
          1205,
          -690,
          -102,
          141,
          83,
          237,
          1009,
          236,
          -1151,
          245,
          851,
          406,
          790,
          -129,
          594,
          1381,
          905,
          753,
          567,
          542,
          -312,
          722,
          123,
          1040,
          163,
          946,
          745,
          269,
          661,
          160,
          873,
          209,
          793,
          56,
          295,
          573,
          490,
          426,
          352,
          226,
          54,
          518,
          75,
          625,
          347,
          354,
          493,
          115,
          117
         ]
        }
       ],
       "layout": {
        "mapbox": {
         "center": {
          "lat": 40.7,
          "lon": -73.86
         },
         "style": "carto-positron",
         "zoom": 9
        },
        "margin": {
         "b": 0,
         "l": 0,
         "r": 0,
         "t": 0
        },
        "template": {
         "data": {
          "bar": [
           {
            "error_x": {
             "color": "#2a3f5f"
            },
            "error_y": {
             "color": "#2a3f5f"
            },
            "marker": {
             "line": {
              "color": "#E5ECF6",
              "width": 0.5
             }
            },
            "type": "bar"
           }
          ],
          "barpolar": [
           {
            "marker": {
             "line": {
              "color": "#E5ECF6",
              "width": 0.5
             }
            },
            "type": "barpolar"
           }
          ],
          "carpet": [
           {
            "aaxis": {
             "endlinecolor": "#2a3f5f",
             "gridcolor": "white",
             "linecolor": "white",
             "minorgridcolor": "white",
             "startlinecolor": "#2a3f5f"
            },
            "baxis": {
             "endlinecolor": "#2a3f5f",
             "gridcolor": "white",
             "linecolor": "white",
             "minorgridcolor": "white",
             "startlinecolor": "#2a3f5f"
            },
            "type": "carpet"
           }
          ],
          "choropleth": [
           {
            "colorbar": {
             "outlinewidth": 0,
             "ticks": ""
            },
            "type": "choropleth"
           }
          ],
          "contour": [
           {
            "colorbar": {
             "outlinewidth": 0,
             "ticks": ""
            },
            "colorscale": [
             [
              0,
              "#0d0887"
             ],
             [
              0.1111111111111111,
              "#46039f"
             ],
             [
              0.2222222222222222,
              "#7201a8"
             ],
             [
              0.3333333333333333,
              "#9c179e"
             ],
             [
              0.4444444444444444,
              "#bd3786"
             ],
             [
              0.5555555555555556,
              "#d8576b"
             ],
             [
              0.6666666666666666,
              "#ed7953"
             ],
             [
              0.7777777777777778,
              "#fb9f3a"
             ],
             [
              0.8888888888888888,
              "#fdca26"
             ],
             [
              1,
              "#f0f921"
             ]
            ],
            "type": "contour"
           }
          ],
          "contourcarpet": [
           {
            "colorbar": {
             "outlinewidth": 0,
             "ticks": ""
            },
            "type": "contourcarpet"
           }
          ],
          "heatmap": [
           {
            "colorbar": {
             "outlinewidth": 0,
             "ticks": ""
            },
            "colorscale": [
             [
              0,
              "#0d0887"
             ],
             [
              0.1111111111111111,
              "#46039f"
             ],
             [
              0.2222222222222222,
              "#7201a8"
             ],
             [
              0.3333333333333333,
              "#9c179e"
             ],
             [
              0.4444444444444444,
              "#bd3786"
             ],
             [
              0.5555555555555556,
              "#d8576b"
             ],
             [
              0.6666666666666666,
              "#ed7953"
             ],
             [
              0.7777777777777778,
              "#fb9f3a"
             ],
             [
              0.8888888888888888,
              "#fdca26"
             ],
             [
              1,
              "#f0f921"
             ]
            ],
            "type": "heatmap"
           }
          ],
          "heatmapgl": [
           {
            "colorbar": {
             "outlinewidth": 0,
             "ticks": ""
            },
            "colorscale": [
             [
              0,
              "#0d0887"
             ],
             [
              0.1111111111111111,
              "#46039f"
             ],
             [
              0.2222222222222222,
              "#7201a8"
             ],
             [
              0.3333333333333333,
              "#9c179e"
             ],
             [
              0.4444444444444444,
              "#bd3786"
             ],
             [
              0.5555555555555556,
              "#d8576b"
             ],
             [
              0.6666666666666666,
              "#ed7953"
             ],
             [
              0.7777777777777778,
              "#fb9f3a"
             ],
             [
              0.8888888888888888,
              "#fdca26"
             ],
             [
              1,
              "#f0f921"
             ]
            ],
            "type": "heatmapgl"
           }
          ],
          "histogram": [
           {
            "marker": {
             "colorbar": {
              "outlinewidth": 0,
              "ticks": ""
             }
            },
            "type": "histogram"
           }
          ],
          "histogram2d": [
           {
            "colorbar": {
             "outlinewidth": 0,
             "ticks": ""
            },
            "colorscale": [
             [
              0,
              "#0d0887"
             ],
             [
              0.1111111111111111,
              "#46039f"
             ],
             [
              0.2222222222222222,
              "#7201a8"
             ],
             [
              0.3333333333333333,
              "#9c179e"
             ],
             [
              0.4444444444444444,
              "#bd3786"
             ],
             [
              0.5555555555555556,
              "#d8576b"
             ],
             [
              0.6666666666666666,
              "#ed7953"
             ],
             [
              0.7777777777777778,
              "#fb9f3a"
             ],
             [
              0.8888888888888888,
              "#fdca26"
             ],
             [
              1,
              "#f0f921"
             ]
            ],
            "type": "histogram2d"
           }
          ],
          "histogram2dcontour": [
           {
            "colorbar": {
             "outlinewidth": 0,
             "ticks": ""
            },
            "colorscale": [
             [
              0,
              "#0d0887"
             ],
             [
              0.1111111111111111,
              "#46039f"
             ],
             [
              0.2222222222222222,
              "#7201a8"
             ],
             [
              0.3333333333333333,
              "#9c179e"
             ],
             [
              0.4444444444444444,
              "#bd3786"
             ],
             [
              0.5555555555555556,
              "#d8576b"
             ],
             [
              0.6666666666666666,
              "#ed7953"
             ],
             [
              0.7777777777777778,
              "#fb9f3a"
             ],
             [
              0.8888888888888888,
              "#fdca26"
             ],
             [
              1,
              "#f0f921"
             ]
            ],
            "type": "histogram2dcontour"
           }
          ],
          "mesh3d": [
           {
            "colorbar": {
             "outlinewidth": 0,
             "ticks": ""
            },
            "type": "mesh3d"
           }
          ],
          "parcoords": [
           {
            "line": {
             "colorbar": {
              "outlinewidth": 0,
              "ticks": ""
             }
            },
            "type": "parcoords"
           }
          ],
          "scatter": [
           {
            "marker": {
             "colorbar": {
              "outlinewidth": 0,
              "ticks": ""
             }
            },
            "type": "scatter"
           }
          ],
          "scatter3d": [
           {
            "line": {
             "colorbar": {
              "outlinewidth": 0,
              "ticks": ""
             }
            },
            "marker": {
             "colorbar": {
              "outlinewidth": 0,
              "ticks": ""
             }
            },
            "type": "scatter3d"
           }
          ],
          "scattercarpet": [
           {
            "marker": {
             "colorbar": {
              "outlinewidth": 0,
              "ticks": ""
             }
            },
            "type": "scattercarpet"
           }
          ],
          "scattergeo": [
           {
            "marker": {
             "colorbar": {
              "outlinewidth": 0,
              "ticks": ""
             }
            },
            "type": "scattergeo"
           }
          ],
          "scattergl": [
           {
            "marker": {
             "colorbar": {
              "outlinewidth": 0,
              "ticks": ""
             }
            },
            "type": "scattergl"
           }
          ],
          "scattermapbox": [
           {
            "marker": {
             "colorbar": {
              "outlinewidth": 0,
              "ticks": ""
             }
            },
            "type": "scattermapbox"
           }
          ],
          "scatterpolar": [
           {
            "marker": {
             "colorbar": {
              "outlinewidth": 0,
              "ticks": ""
             }
            },
            "type": "scatterpolar"
           }
          ],
          "scatterpolargl": [
           {
            "marker": {
             "colorbar": {
              "outlinewidth": 0,
              "ticks": ""
             }
            },
            "type": "scatterpolargl"
           }
          ],
          "scatterternary": [
           {
            "marker": {
             "colorbar": {
              "outlinewidth": 0,
              "ticks": ""
             }
            },
            "type": "scatterternary"
           }
          ],
          "surface": [
           {
            "colorbar": {
             "outlinewidth": 0,
             "ticks": ""
            },
            "colorscale": [
             [
              0,
              "#0d0887"
             ],
             [
              0.1111111111111111,
              "#46039f"
             ],
             [
              0.2222222222222222,
              "#7201a8"
             ],
             [
              0.3333333333333333,
              "#9c179e"
             ],
             [
              0.4444444444444444,
              "#bd3786"
             ],
             [
              0.5555555555555556,
              "#d8576b"
             ],
             [
              0.6666666666666666,
              "#ed7953"
             ],
             [
              0.7777777777777778,
              "#fb9f3a"
             ],
             [
              0.8888888888888888,
              "#fdca26"
             ],
             [
              1,
              "#f0f921"
             ]
            ],
            "type": "surface"
           }
          ],
          "table": [
           {
            "cells": {
             "fill": {
              "color": "#EBF0F8"
             },
             "line": {
              "color": "white"
             }
            },
            "header": {
             "fill": {
              "color": "#C8D4E3"
             },
             "line": {
              "color": "white"
             }
            },
            "type": "table"
           }
          ]
         },
         "layout": {
          "annotationdefaults": {
           "arrowcolor": "#2a3f5f",
           "arrowhead": 0,
           "arrowwidth": 1
          },
          "colorscale": {
           "diverging": [
            [
             0,
             "#8e0152"
            ],
            [
             0.1,
             "#c51b7d"
            ],
            [
             0.2,
             "#de77ae"
            ],
            [
             0.3,
             "#f1b6da"
            ],
            [
             0.4,
             "#fde0ef"
            ],
            [
             0.5,
             "#f7f7f7"
            ],
            [
             0.6,
             "#e6f5d0"
            ],
            [
             0.7,
             "#b8e186"
            ],
            [
             0.8,
             "#7fbc41"
            ],
            [
             0.9,
             "#4d9221"
            ],
            [
             1,
             "#276419"
            ]
           ],
           "sequential": [
            [
             0,
             "#0d0887"
            ],
            [
             0.1111111111111111,
             "#46039f"
            ],
            [
             0.2222222222222222,
             "#7201a8"
            ],
            [
             0.3333333333333333,
             "#9c179e"
            ],
            [
             0.4444444444444444,
             "#bd3786"
            ],
            [
             0.5555555555555556,
             "#d8576b"
            ],
            [
             0.6666666666666666,
             "#ed7953"
            ],
            [
             0.7777777777777778,
             "#fb9f3a"
            ],
            [
             0.8888888888888888,
             "#fdca26"
            ],
            [
             1,
             "#f0f921"
            ]
           ],
           "sequentialminus": [
            [
             0,
             "#0d0887"
            ],
            [
             0.1111111111111111,
             "#46039f"
            ],
            [
             0.2222222222222222,
             "#7201a8"
            ],
            [
             0.3333333333333333,
             "#9c179e"
            ],
            [
             0.4444444444444444,
             "#bd3786"
            ],
            [
             0.5555555555555556,
             "#d8576b"
            ],
            [
             0.6666666666666666,
             "#ed7953"
            ],
            [
             0.7777777777777778,
             "#fb9f3a"
            ],
            [
             0.8888888888888888,
             "#fdca26"
            ],
            [
             1,
             "#f0f921"
            ]
           ]
          },
          "colorway": [
           "#636efa",
           "#EF553B",
           "#00cc96",
           "#ab63fa",
           "#FFA15A",
           "#19d3f3",
           "#FF6692",
           "#B6E880",
           "#FF97FF",
           "#FECB52"
          ],
          "font": {
           "color": "#2a3f5f"
          },
          "geo": {
           "bgcolor": "white",
           "lakecolor": "white",
           "landcolor": "#E5ECF6",
           "showlakes": true,
           "showland": true,
           "subunitcolor": "white"
          },
          "hoverlabel": {
           "align": "left"
          },
          "hovermode": "closest",
          "mapbox": {
           "style": "light"
          },
          "paper_bgcolor": "white",
          "plot_bgcolor": "#E5ECF6",
          "polar": {
           "angularaxis": {
            "gridcolor": "white",
            "linecolor": "white",
            "ticks": ""
           },
           "bgcolor": "#E5ECF6",
           "radialaxis": {
            "gridcolor": "white",
            "linecolor": "white",
            "ticks": ""
           }
          },
          "scene": {
           "xaxis": {
            "backgroundcolor": "#E5ECF6",
            "gridcolor": "white",
            "gridwidth": 2,
            "linecolor": "white",
            "showbackground": true,
            "ticks": "",
            "zerolinecolor": "white"
           },
           "yaxis": {
            "backgroundcolor": "#E5ECF6",
            "gridcolor": "white",
            "gridwidth": 2,
            "linecolor": "white",
            "showbackground": true,
            "ticks": "",
            "zerolinecolor": "white"
           },
           "zaxis": {
            "backgroundcolor": "#E5ECF6",
            "gridcolor": "white",
            "gridwidth": 2,
            "linecolor": "white",
            "showbackground": true,
            "ticks": "",
            "zerolinecolor": "white"
           }
          },
          "shapedefaults": {
           "line": {
            "color": "#2a3f5f"
           }
          },
          "ternary": {
           "aaxis": {
            "gridcolor": "white",
            "linecolor": "white",
            "ticks": ""
           },
           "baxis": {
            "gridcolor": "white",
            "linecolor": "white",
            "ticks": ""
           },
           "bgcolor": "#E5ECF6",
           "caxis": {
            "gridcolor": "white",
            "linecolor": "white",
            "ticks": ""
           }
          },
          "title": {
           "x": 0.05
          },
          "xaxis": {
           "automargin": true,
           "gridcolor": "white",
           "linecolor": "white",
           "ticks": "",
           "zerolinecolor": "white",
           "zerolinewidth": 2
          },
          "yaxis": {
           "automargin": true,
           "gridcolor": "white",
           "linecolor": "white",
           "ticks": "",
           "zerolinecolor": "white",
           "zerolinewidth": 2
          }
         }
        }
       }
      },
      "text/html": [
       "<div>\n",
       "        \n",
       "        \n",
       "            <div id=\"447d93f6-5e98-4114-aae8-158142fbe8ab\" class=\"plotly-graph-div\" style=\"height:525px; width:100%;\"></div>\n",
       "            <script type=\"text/javascript\">\n",
       "                require([\"plotly\"], function(Plotly) {\n",
       "                    window.PLOTLYENV=window.PLOTLYENV || {};\n",
       "                    \n",
       "                if (document.getElementById(\"447d93f6-5e98-4114-aae8-158142fbe8ab\")) {\n",
       "                    Plotly.newPlot(\n",
       "                        '447d93f6-5e98-4114-aae8-158142fbe8ab',\n",
       "                        [{\"colorbar\": {\"title\": {\"text\": \"2015-2005 Change\"}}, \"colorscale\": [[0, \"red\"], [0.15, \"yellow\"], [1, \"green\"]], \"geojson\": \"nta_json2.json\", \"locations\": [\"SI01\", \"SI54\", \"QN46\", \"BK82\", \"SI32\", \"SI05\", \"SI11\", \"QN17\", \"QN49\", \"BK45\", \"QN55\", \"QN45\", \"QN08\", \"QN51\", \"BK31\", \"SI48\", \"QN28\", \"QN34\", \"QN44\", \"QN20\", \"BK61\", \"BK37\", \"QN43\", \"BK42\", \"QN42\", \"BK50\", \"BK88\", \"MN12\", \"SI25\", \"BK58\", \"SI45\", \"QN72\", \"QN05\", \"QN21\", \"QN48\", \"BK17\", \"QN31\", \"QN54\", \"QN37\", \"BX52\", \"QN38\", \"QN15\", \"SI07\", \"SI36\", \"BK43\", \"SI24\", \"QN76\", \"MN40\", \"QN57\", \"QN66\", \"BK78\", \"QN19\", \"QN70\", \"QN10\", \"BK33\", \"QN53\", \"BK28\", \"QN06\", \"QN61\", \"BK25\", \"BX62\", \"QN01\", \"SI22\", \"BK35\", \"BX31\", \"SI37\", \"MN23\", \"BX09\", \"SI12\", \"QN03\", \"BK75\", \"BK83\", \"BK44\", \"SI35\", \"BX27\", \"MN03\", \"BK73\", \"QN23\", \"BK77\", \"BK76\", \"BX44\", \"BK29\", \"QN33\", \"BK96\", \"QN29\", \"QN30\", \"QN35\", \"BK30\", \"QN52\", \"QN56\", \"BK32\", \"QN22\", \"BK34\", \"BX10\", \"QN12\", \"BK60\", \"BX37\", \"BK81\", \"SI28\", \"QN62\", \"BK69\", \"BK91\", \"BK85\", \"MN36\", \"MN13\", \"QN02\", \"BK38\", \"QN47\", \"QN41\", \"BX59\", \"MN09\", \"QN63\", \"MN35\", \"MN11\", \"BX03\", \"BX17\", \"MN34\", \"QN07\", \"BK46\", \"BX39\", \"SI08\", \"BX14\", \"QN18\", \"MN04\", \"BX28\", \"BK79\", \"BX35\", \"MN31\", \"BX49\", \"BK90\", \"BK41\", \"BK40\", \"MN32\", \"QN26\", \"MN19\", \"MN24\", \"QN27\", \"BX34\", \"BK68\", \"BX63\", \"SI14\", \"BK63\", \"BX13\", \"QN25\", \"MN14\", \"BX41\", \"QN60\", \"BX22\", \"BX29\", \"MN33\", \"MN15\", \"BX36\", \"QN50\", \"BX43\", \"BX26\", \"MN28\", \"BX55\", \"BX05\", \"BK27\", \"BK09\", \"MN01\", \"MN20\", \"BX01\", \"BK72\", \"BX06\", \"BX08\", \"MN22\", \"BX33\", \"BX07\", \"BX75\", \"BK64\", \"MN27\", \"BK21\", \"BK26\", \"BK95\", \"QN68\", \"QN71\", \"MN25\", \"BK19\", \"MN17\", \"BX30\", \"MN21\", \"BX40\", \"MN06\", \"BX46\", \"BK93\", \"BK23\", \"MN50\"], \"type\": \"choroplethmapbox\", \"z\": [-740, 882, -1059, 5941, 721, 2030, 991, -554, -128, 671, -630, 755, 2171, 172, 640, -140, -256, 752, -253, 939, 2009, 496, -388, 145, 888, -496, 834, 648, 1707, 373, 415, 976, 320, -228, 184, 46, 520, 777, 607, 1290, 482, 1899, -115, 400, 34, -70, 487, 785, 249, 1108, 1505, -166, 1184, 357, 901, -264, 507, 209, 1471, 1082, 194, 798, 1137, 1177, -87, 1123, 759, 1653, 1456, 986, 1542, 2006, 481, -303, 2198, 1343, 1314, 1058, 2039, 755, 992, 711, 173, 400, -423, 520, 394, -360, -289, 144, 1608, 558, 1084, 132, 2026, 690, 1146, 984, 1006, 328, 1270, 172, 1589, 1372, 778, 342, -157, -471, -417, 1568, 915, 40, 1517, 892, 579, 1045, 1005, 745, 244, 1627, 89, 1517, 467, 921, 632, 1451, 1406, 88, 479, 715, 269, 471, -122, 980, 169, 631, 597, 1404, 768, 1205, -690, -102, 141, 83, 237, 1009, 236, -1151, 245, 851, 406, 790, -129, 594, 1381, 905, 753, 567, 542, -312, 722, 123, 1040, 163, 946, 745, 269, 661, 160, 873, 209, 793, 56, 295, 573, 490, 426, 352, 226, 54, 518, 75, 625, 347, 354, 493, 115, 117]}],\n",
       "                        {\"mapbox\": {\"center\": {\"lat\": 40.7, \"lon\": -73.86}, \"style\": \"carto-positron\", \"zoom\": 9}, \"margin\": {\"b\": 0, \"l\": 0, \"r\": 0, \"t\": 0}, \"template\": {\"data\": {\"bar\": [{\"error_x\": {\"color\": \"#2a3f5f\"}, \"error_y\": {\"color\": \"#2a3f5f\"}, \"marker\": {\"line\": {\"color\": \"#E5ECF6\", \"width\": 0.5}}, \"type\": \"bar\"}], \"barpolar\": [{\"marker\": {\"line\": {\"color\": \"#E5ECF6\", \"width\": 0.5}}, \"type\": \"barpolar\"}], \"carpet\": [{\"aaxis\": {\"endlinecolor\": \"#2a3f5f\", \"gridcolor\": \"white\", \"linecolor\": \"white\", \"minorgridcolor\": \"white\", \"startlinecolor\": \"#2a3f5f\"}, \"baxis\": {\"endlinecolor\": \"#2a3f5f\", \"gridcolor\": \"white\", \"linecolor\": \"white\", \"minorgridcolor\": \"white\", \"startlinecolor\": \"#2a3f5f\"}, \"type\": \"carpet\"}], \"choropleth\": [{\"colorbar\": {\"outlinewidth\": 0, \"ticks\": \"\"}, \"type\": \"choropleth\"}], \"contour\": [{\"colorbar\": {\"outlinewidth\": 0, \"ticks\": \"\"}, \"colorscale\": [[0.0, \"#0d0887\"], [0.1111111111111111, \"#46039f\"], [0.2222222222222222, \"#7201a8\"], [0.3333333333333333, \"#9c179e\"], [0.4444444444444444, \"#bd3786\"], [0.5555555555555556, \"#d8576b\"], [0.6666666666666666, \"#ed7953\"], [0.7777777777777778, \"#fb9f3a\"], [0.8888888888888888, \"#fdca26\"], [1.0, \"#f0f921\"]], \"type\": \"contour\"}], \"contourcarpet\": [{\"colorbar\": {\"outlinewidth\": 0, \"ticks\": \"\"}, \"type\": \"contourcarpet\"}], \"heatmap\": [{\"colorbar\": {\"outlinewidth\": 0, \"ticks\": \"\"}, \"colorscale\": [[0.0, \"#0d0887\"], [0.1111111111111111, \"#46039f\"], [0.2222222222222222, \"#7201a8\"], [0.3333333333333333, \"#9c179e\"], [0.4444444444444444, \"#bd3786\"], [0.5555555555555556, \"#d8576b\"], [0.6666666666666666, \"#ed7953\"], [0.7777777777777778, \"#fb9f3a\"], [0.8888888888888888, \"#fdca26\"], [1.0, \"#f0f921\"]], \"type\": \"heatmap\"}], \"heatmapgl\": [{\"colorbar\": {\"outlinewidth\": 0, \"ticks\": \"\"}, \"colorscale\": [[0.0, \"#0d0887\"], [0.1111111111111111, \"#46039f\"], [0.2222222222222222, \"#7201a8\"], [0.3333333333333333, \"#9c179e\"], [0.4444444444444444, \"#bd3786\"], [0.5555555555555556, \"#d8576b\"], [0.6666666666666666, \"#ed7953\"], [0.7777777777777778, \"#fb9f3a\"], [0.8888888888888888, \"#fdca26\"], [1.0, \"#f0f921\"]], \"type\": \"heatmapgl\"}], \"histogram\": [{\"marker\": {\"colorbar\": {\"outlinewidth\": 0, \"ticks\": \"\"}}, \"type\": \"histogram\"}], \"histogram2d\": [{\"colorbar\": {\"outlinewidth\": 0, \"ticks\": \"\"}, \"colorscale\": [[0.0, \"#0d0887\"], [0.1111111111111111, \"#46039f\"], [0.2222222222222222, \"#7201a8\"], [0.3333333333333333, \"#9c179e\"], [0.4444444444444444, \"#bd3786\"], [0.5555555555555556, \"#d8576b\"], [0.6666666666666666, \"#ed7953\"], [0.7777777777777778, \"#fb9f3a\"], [0.8888888888888888, \"#fdca26\"], [1.0, \"#f0f921\"]], \"type\": \"histogram2d\"}], \"histogram2dcontour\": [{\"colorbar\": {\"outlinewidth\": 0, \"ticks\": \"\"}, \"colorscale\": [[0.0, \"#0d0887\"], [0.1111111111111111, \"#46039f\"], [0.2222222222222222, \"#7201a8\"], [0.3333333333333333, \"#9c179e\"], [0.4444444444444444, \"#bd3786\"], [0.5555555555555556, \"#d8576b\"], [0.6666666666666666, \"#ed7953\"], [0.7777777777777778, \"#fb9f3a\"], [0.8888888888888888, \"#fdca26\"], [1.0, \"#f0f921\"]], \"type\": \"histogram2dcontour\"}], \"mesh3d\": [{\"colorbar\": {\"outlinewidth\": 0, \"ticks\": \"\"}, \"type\": \"mesh3d\"}], \"parcoords\": [{\"line\": {\"colorbar\": {\"outlinewidth\": 0, \"ticks\": \"\"}}, \"type\": \"parcoords\"}], \"scatter\": [{\"marker\": {\"colorbar\": {\"outlinewidth\": 0, \"ticks\": \"\"}}, \"type\": \"scatter\"}], \"scatter3d\": [{\"line\": {\"colorbar\": {\"outlinewidth\": 0, \"ticks\": \"\"}}, \"marker\": {\"colorbar\": {\"outlinewidth\": 0, \"ticks\": \"\"}}, \"type\": \"scatter3d\"}], \"scattercarpet\": [{\"marker\": {\"colorbar\": {\"outlinewidth\": 0, \"ticks\": \"\"}}, \"type\": \"scattercarpet\"}], \"scattergeo\": [{\"marker\": {\"colorbar\": {\"outlinewidth\": 0, \"ticks\": \"\"}}, \"type\": \"scattergeo\"}], \"scattergl\": [{\"marker\": {\"colorbar\": {\"outlinewidth\": 0, \"ticks\": \"\"}}, \"type\": \"scattergl\"}], \"scattermapbox\": [{\"marker\": {\"colorbar\": {\"outlinewidth\": 0, \"ticks\": \"\"}}, \"type\": \"scattermapbox\"}], \"scatterpolar\": [{\"marker\": {\"colorbar\": {\"outlinewidth\": 0, \"ticks\": \"\"}}, \"type\": \"scatterpolar\"}], \"scatterpolargl\": [{\"marker\": {\"colorbar\": {\"outlinewidth\": 0, \"ticks\": \"\"}}, \"type\": \"scatterpolargl\"}], \"scatterternary\": [{\"marker\": {\"colorbar\": {\"outlinewidth\": 0, \"ticks\": \"\"}}, \"type\": \"scatterternary\"}], \"surface\": [{\"colorbar\": {\"outlinewidth\": 0, \"ticks\": \"\"}, \"colorscale\": [[0.0, \"#0d0887\"], [0.1111111111111111, \"#46039f\"], [0.2222222222222222, \"#7201a8\"], [0.3333333333333333, \"#9c179e\"], [0.4444444444444444, \"#bd3786\"], [0.5555555555555556, \"#d8576b\"], [0.6666666666666666, \"#ed7953\"], [0.7777777777777778, \"#fb9f3a\"], [0.8888888888888888, \"#fdca26\"], [1.0, \"#f0f921\"]], \"type\": \"surface\"}], \"table\": [{\"cells\": {\"fill\": {\"color\": \"#EBF0F8\"}, \"line\": {\"color\": \"white\"}}, \"header\": {\"fill\": {\"color\": \"#C8D4E3\"}, \"line\": {\"color\": \"white\"}}, \"type\": \"table\"}]}, \"layout\": {\"annotationdefaults\": {\"arrowcolor\": \"#2a3f5f\", \"arrowhead\": 0, \"arrowwidth\": 1}, \"colorscale\": {\"diverging\": [[0, \"#8e0152\"], [0.1, \"#c51b7d\"], [0.2, \"#de77ae\"], [0.3, \"#f1b6da\"], [0.4, \"#fde0ef\"], [0.5, \"#f7f7f7\"], [0.6, \"#e6f5d0\"], [0.7, \"#b8e186\"], [0.8, \"#7fbc41\"], [0.9, \"#4d9221\"], [1, \"#276419\"]], \"sequential\": [[0.0, \"#0d0887\"], [0.1111111111111111, \"#46039f\"], [0.2222222222222222, \"#7201a8\"], [0.3333333333333333, \"#9c179e\"], [0.4444444444444444, \"#bd3786\"], [0.5555555555555556, \"#d8576b\"], [0.6666666666666666, \"#ed7953\"], [0.7777777777777778, \"#fb9f3a\"], [0.8888888888888888, \"#fdca26\"], [1.0, \"#f0f921\"]], \"sequentialminus\": [[0.0, \"#0d0887\"], [0.1111111111111111, \"#46039f\"], [0.2222222222222222, \"#7201a8\"], [0.3333333333333333, \"#9c179e\"], [0.4444444444444444, \"#bd3786\"], [0.5555555555555556, \"#d8576b\"], [0.6666666666666666, \"#ed7953\"], [0.7777777777777778, \"#fb9f3a\"], [0.8888888888888888, \"#fdca26\"], [1.0, \"#f0f921\"]]}, \"colorway\": [\"#636efa\", \"#EF553B\", \"#00cc96\", \"#ab63fa\", \"#FFA15A\", \"#19d3f3\", \"#FF6692\", \"#B6E880\", \"#FF97FF\", \"#FECB52\"], \"font\": {\"color\": \"#2a3f5f\"}, \"geo\": {\"bgcolor\": \"white\", \"lakecolor\": \"white\", \"landcolor\": \"#E5ECF6\", \"showlakes\": true, \"showland\": true, \"subunitcolor\": \"white\"}, \"hoverlabel\": {\"align\": \"left\"}, \"hovermode\": \"closest\", \"mapbox\": {\"style\": \"light\"}, \"paper_bgcolor\": \"white\", \"plot_bgcolor\": \"#E5ECF6\", \"polar\": {\"angularaxis\": {\"gridcolor\": \"white\", \"linecolor\": \"white\", \"ticks\": \"\"}, \"bgcolor\": \"#E5ECF6\", \"radialaxis\": {\"gridcolor\": \"white\", \"linecolor\": \"white\", \"ticks\": \"\"}}, \"scene\": {\"xaxis\": {\"backgroundcolor\": \"#E5ECF6\", \"gridcolor\": \"white\", \"gridwidth\": 2, \"linecolor\": \"white\", \"showbackground\": true, \"ticks\": \"\", \"zerolinecolor\": \"white\"}, \"yaxis\": {\"backgroundcolor\": \"#E5ECF6\", \"gridcolor\": \"white\", \"gridwidth\": 2, \"linecolor\": \"white\", \"showbackground\": true, \"ticks\": \"\", \"zerolinecolor\": \"white\"}, \"zaxis\": {\"backgroundcolor\": \"#E5ECF6\", \"gridcolor\": \"white\", \"gridwidth\": 2, \"linecolor\": \"white\", \"showbackground\": true, \"ticks\": \"\", \"zerolinecolor\": \"white\"}}, \"shapedefaults\": {\"line\": {\"color\": \"#2a3f5f\"}}, \"ternary\": {\"aaxis\": {\"gridcolor\": \"white\", \"linecolor\": \"white\", \"ticks\": \"\"}, \"baxis\": {\"gridcolor\": \"white\", \"linecolor\": \"white\", \"ticks\": \"\"}, \"bgcolor\": \"#E5ECF6\", \"caxis\": {\"gridcolor\": \"white\", \"linecolor\": \"white\", \"ticks\": \"\"}}, \"title\": {\"x\": 0.05}, \"xaxis\": {\"automargin\": true, \"gridcolor\": \"white\", \"linecolor\": \"white\", \"ticks\": \"\", \"zerolinecolor\": \"white\", \"zerolinewidth\": 2}, \"yaxis\": {\"automargin\": true, \"gridcolor\": \"white\", \"linecolor\": \"white\", \"ticks\": \"\", \"zerolinecolor\": \"white\", \"zerolinewidth\": 2}}}},\n",
       "                        {\"responsive\": true}\n",
       "                    ).then(function(){\n",
       "                            \n",
       "var gd = document.getElementById('447d93f6-5e98-4114-aae8-158142fbe8ab');\n",
       "var x = new MutationObserver(function (mutations, observer) {{\n",
       "        var display = window.getComputedStyle(gd).display;\n",
       "        if (!display || display === 'none') {{\n",
       "            console.log([gd, 'removed!']);\n",
       "            Plotly.purge(gd);\n",
       "            observer.disconnect();\n",
       "        }}\n",
       "}});\n",
       "\n",
       "// Listen for the removal of the full notebook cells\n",
       "var notebookContainer = gd.closest('#notebook-container');\n",
       "if (notebookContainer) {{\n",
       "    x.observe(notebookContainer, {childList: true});\n",
       "}}\n",
       "\n",
       "// Listen for the clearing of the current output cell\n",
       "var outputEl = gd.closest('.output');\n",
       "if (outputEl) {{\n",
       "    x.observe(outputEl, {childList: true});\n",
       "}}\n",
       "\n",
       "                        })\n",
       "                };\n",
       "                });\n",
       "            </script>\n",
       "        </div>"
      ]
     },
     "metadata": {},
     "output_type": "display_data"
    }
   ],
   "source": [
    "data=[]\n",
    "data.append(go.Choroplethmapbox(geojson='nta_json2.json', \n",
    "                                    locations=df_2015.nta.value_counts().index, \n",
    "                                    z=nta_count_diff.change.values,\n",
    "                                    colorbar=dict(title='2015-2005 Change'),\n",
    "                                    colorscale=[[0, \"red\"],\n",
    "                                                [0.15,'yellow'],\n",
    "                                               [1, \"green\"]]\n",
    "                                    ))\n",
    "\n",
    "layout=go.Layout(mapbox_style=\"carto-positron\",\n",
    "                  mapbox_zoom=9, mapbox_center = {\"lat\": 40.7, \"lon\": -73.86})\n",
    "#dropdown code from https://plot.ly/~empet/15237/choroplethmapbox-with-dropdown-menu/#/\n",
    "\n",
    "fig = go.Figure(data=data,layout=layout)\n",
    "fig.update_layout(margin={\"r\":0,\"t\":0,\"l\":0,\"b\":0})\n",
    "fig.show()"
   ]
  },
  {
   "cell_type": "code",
   "execution_count": null,
   "metadata": {},
   "outputs": [],
   "source": [
    "data.append(go.Choroplethmapbox(geojson='nta_json2.json', \n",
    "                                    locations=df_2015.nta.value_counts().index, \n",
    "                                    z=df_2015.nta.value_counts().values,\n",
    "                                    colorbar=dict(title='2015'),\n",
    "                                    colorscale=\"YlGn\"\n",
    "                                    ))"
   ]
  }
 ],
 "metadata": {
  "kernelspec": {
   "display_name": "Python 3",
   "language": "python",
   "name": "python3"
  },
  "language_info": {
   "codemirror_mode": {
    "name": "ipython",
    "version": 3
   },
   "file_extension": ".py",
   "mimetype": "text/x-python",
   "name": "python",
   "nbconvert_exporter": "python",
   "pygments_lexer": "ipython3",
   "version": "3.7.0"
  }
 },
 "nbformat": 4,
 "nbformat_minor": 2
}
