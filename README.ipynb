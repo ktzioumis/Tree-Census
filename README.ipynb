{
 "cells": [
  {
   "cell_type": "markdown",
   "metadata": {},
   "source": [
    "# New York Tree Census (1995, 2005, 2015)\n",
    "\n",
    "## Dataset and Description courtesy of Kaggle.com\n",
    "\n",
    "https://www.kaggle.com/nycparks/tree-census\n",
    "\n",
    "### Context\n",
    ">New York City’s trees shade us in the summer, beautify our neighborhoods, help reduce noise, and support urban wildlife. Beyond these priceless benefits, our urban forest provides us a concrete return on the financial investment we put into it. This return includes stormwater interception, energy conservation, air pollutant removal, and carbon dioxide storage. Our publicly owned trees are as much of an asset to us as our streets, sewers, bridges, and public buildings.\n",
    "\n",
    "### Content\n",
    "This dataset includes a record for every tree in New York City and includes the tree's location by borough and latitude/longitude, species by Latin name and common names, size, health, and issues with the tree's roots, trunk, and branches.\n",
    "\n",
    "### Acknowledgements\n",
    "The 2015, 2005, and 1995 tree censuses were conducted by NYC Parks and Recreation staff, TreesCount! program staff, and hundreds of volunteers.\n",
    "\n",
    "## NTA Map obtained from NYC Open Data\n",
    "\n",
    "https://data.cityofnewyork.us/City-Government/NTA-map/d3qk-pfyz\n",
    "\n",
    "### NTA map\n",
    "Boundaries of Neighborhood Tabulation Areas as created by the NYC Department of City Planning using whole census tracts from the 2010 Census as building blocks. These aggregations of census tracts are subsets of New York City's 55 Public Use Microdata Areas (PUMAs).\n",
    "\n",
    "The geojson file obtained is edited to copy the NTA code from *features.properties.ntacode* to *features.id*.<br>\n",
    "This was done to accommodate the plotly choropleth which must the json in this format to read.\n",
    "\n",
    "## Tree Mapping\n",
    "\n",
    "Choropleth of tree numbers per NTA in 1995, 2005, 2015. Places like Central Park and Prospect Park are **NOT** included in the tree census. The tree-lined suburbia of Staten Island wins every year at having the most trees. \n",
    "\n",
    "\n",
    "\n",
    "Choropleth of change in tree numbers per NTA from 2005 to 2015. <br>\n",
    "Brooklyn NTA BK82 gained the most trees: 5941 <br>\n",
    "Bronx NTA BX22  lost the most trees: -1151. <br>\n",
    "On average the change in tree numbers was a gain of 620 trees and follows an approximately normal distribution with 1 outlier\n",
    "\n",
    "<img src ='change_hist.png'>\n",
    "\n",
    "Point map of user input tree types. The map is generated to match all or partial uses of the input string. Each species match is assigned a color and plotly allows species to be selected or deselected from the legend on the right side. An interactive Dash app is available here: \n",
    "\n",
    "\n",
    "\n",
    "## Acknowledgements\n",
    "The 2015, 2005, and 1995 tree censuses were conducted by NYC Parks and Recreation staff, TreesCount! program staff, and hundreds of volunteers."
   ]
  },
  {
   "cell_type": "code",
   "execution_count": null,
   "metadata": {},
   "outputs": [],
   "source": []
  }
 ],
 "metadata": {
  "kernelspec": {
   "display_name": "Python 3",
   "language": "python",
   "name": "python3"
  },
  "language_info": {
   "codemirror_mode": {
    "name": "ipython",
    "version": 3
   },
   "file_extension": ".py",
   "mimetype": "text/x-python",
   "name": "python",
   "nbconvert_exporter": "python",
   "pygments_lexer": "ipython3",
   "version": "3.7.0"
  }
 },
 "nbformat": 4,
 "nbformat_minor": 2
}
